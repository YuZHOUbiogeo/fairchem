{
 "cells": [
  {
   "cell_type": "markdown",
   "id": "f80f04e5",
   "metadata": {},
   "source": [
    "Working with embeddings\n",
    "-------------------------------\n",
    "\n",
    "OCP works by computing an *embedding*, aka a high dimensional vector representation of the local environment around each atom that the atomic energy is linear in. If two atoms have a similar embedding, then they have similar atomic energies and forces. We can use these embeddings for a variety of applications. For example, in \n",
    "\n",
    "    Yang, Y., Liu, M., & Kitchin, J. R. (2022). Neural network embeddings based similarity search method for atomistic systems. Digital Discovery, 1(5), 636–644. http://dx.doi.org/10.1039/d2dd00055e\n",
    "\n",
    "We used them to search for similar atomic structures.\n",
    "\n",
    "We can use them for diagnostic purposes, or clustering.\n",
    "\n",
    "In this example, we patch the GemNetOC model to save the embeddings so you can easily access them. This requires two changes. The first is in the GemNetOC model where the embeddings are saved, and the second is in the OCPCalculator to retrieve them.\n",
    "\n",
    "We provide 5 different kinds of embeddings:\n",
    "\n",
    "1. 'h' - This is an early block in the embedding calculation. You get the h-embedding for each atom\n",
    "2. 'h sum' - This is an early block in the embedding calculation. You get the h-embedding summed over each atom\n",
    "3. 'x_E' - The atomic energy is linear in this, returned for each atom\n",
    "4. 'x_E sum' - summed over atoms\n",
    "5. 'x_F sum' - This is related to the forces\n",
    "\n",
    "In principle other models could be adapted in a similar way. See [embedding-monkeypatch.py](./embedding-monkeypatch.py) for details on the patch. We simply load the module to monkeypatch GemNet-OC."
   ]
  },
  {
   "cell_type": "code",
   "execution_count": null,
   "id": "3459bf19",
   "metadata": {},
   "outputs": [],
   "source": [
    "import embedding_monkeypatch"
   ]
  },
  {
   "cell_type": "markdown",
   "id": "29cd7254",
   "metadata": {},
   "source": [
    "The OCP project is still under active development, and it is not yet clear what the best way to access these embeddings are, so this code is not yet part of the main development branch. This code was adapted from a branch at https://github.com/FAIR-Chem/fairchem/blob/gnoc-embeddings.\n",
    "\n",
    "\n",
    "# A diagnostic example\n",
    "\n",
    "Here we will look at an equation of state for bulk fcc Cu."
   ]
  },
  {
   "cell_type": "code",
   "execution_count": null,
   "id": "181670e6",
   "metadata": {},
   "outputs": [],
   "source": [
    "import matplotlib.pyplot as plt\n",
    "from ase import Atom, Atoms\n",
    "import numpy as np"
   ]
  },
  {
   "cell_type": "code",
   "execution_count": null,
   "id": "9f6a92d0",
   "metadata": {},
   "outputs": [],
   "source": [
    "%%capture\n",
    "from fairchem.core.common.relaxation.ase_utils import OCPCalculator\n",
    "from fairchem.core.models.model_registry import model_name_to_local_file\n",
    "\n",
    "import os\n",
    "checkpoint_path = model_name_to_local_file('GemNet-OC-S2EFS-OC20+OC22', local_cache='/tmp/ocp_checkpoints/')\n",
    "\n",
    "calc = OCPCalculator(checkpoint_path=checkpoint_path)"
   ]
  },
  {
   "cell_type": "markdown",
   "id": "36382e5a",
   "metadata": {},
   "source": [
    "## Bulk Cu equation of state example\n",
    "\n",
    "Here we simply compute an equation of state by varying the lattice constant. You will see a small unphysical feature near 3.7 angstroms. We will investigate why that happens."
   ]
  },
  {
   "cell_type": "code",
   "execution_count": null,
   "id": "d3c0440a",
   "metadata": {},
   "outputs": [],
   "source": [
    "#calc.trainer._unwrapped_model.return_embedding = False\n",
    "a0 = 3.63\n",
    "E = []\n",
    "\n",
    "LC = np.linspace(0.95 * a0, 1.05 * a0, 20)\n",
    "\n",
    "for a in LC:\n",
    "    atoms = Atoms([Atom('Cu', (0, 0, 0))],\n",
    "                  cell=0.5 * a * np.array([[1.0, 1.0, 0.0],\n",
    "                                           [0.0, 1.0, 1.0],\n",
    "                                           [1.0, 0.0, 1.0]]),\n",
    "                 pbc=True)\n",
    "    atoms = atoms.repeat((2, 2, 2))\n",
    "    atoms.set_tags(np.ones(len(atoms)))\n",
    "    atoms.set_calculator(calc)\n",
    "    E += [atoms.get_potential_energy()]\n",
    "    \n",
    "plt.plot(LC, E)\n",
    "plt.xlabel('Lattice constant (A)')\n",
    "plt.ylabel('Energy (eV)');"
   ]
  },
  {
   "cell_type": "markdown",
   "id": "ed1f239d",
   "metadata": {},
   "source": [
    "Something is a little off in this equation of state, there is an unphysical bump in it. We now rerun this and get the embeddings. You simply call the `calc.embed` method. We need a reference configuration to compare too. We choose a lattice constant of 3.63 angstroms and compute three different embeddings."
   ]
  },
  {
   "cell_type": "code",
   "execution_count": null,
   "id": "06e3b12c",
   "metadata": {},
   "outputs": [],
   "source": [
    "a0 = 3.63\n",
    "atoms = Atoms([Atom('Cu', (0, 0, 0))],\n",
    "               cell=0.5 * a0 * np.array([[1.0, 1.0, 0.0],\n",
    "                                          [0.0, 1.0, 1.0],\n",
    "                                          [1.0, 0.0, 1.0]]),\n",
    "            pbc=True)\n",
    "atoms = atoms.repeat((2, 2, 2))\n",
    "atoms.set_tags(np.ones(len(atoms)))\n",
    "atoms.calc = calc\n",
    "\n",
    "out = calc.embed(atoms)\n",
    "\n",
    "x1, x2, x3 = out['h sum'], out['x_E sum'], out['x_F sum']"
   ]
  },
  {
   "cell_type": "markdown",
   "id": "8a5b2f74",
   "metadata": {},
   "source": [
    "Next, we loop over a grid of lattice constants, and we compare the cosine similarity of the embeddings for each one to the reference embeddings above. A similarity of 1 means they are the same, and as the similarity decreases it means the embbedings are more and more different (and so is the energy)."
   ]
  },
  {
   "cell_type": "code",
   "execution_count": null,
   "id": "50e9b44e",
   "metadata": {},
   "outputs": [],
   "source": [
    "import torch\n",
    "\n",
    "E = []\n",
    "\n",
    "LC = np.linspace(0.95 * a0, 1.05 * a0, 200)\n",
    "cossim1, cossim2, cossim3 = [], [], []\n",
    "for a in LC:\n",
    "    atoms = Atoms([Atom('Cu', (0, 0, 0))],\n",
    "                  cell=0.5 * a * np.array([[1.0, 1.0, 0.0],\n",
    "                                           [0.0, 1.0, 1.0],\n",
    "                                           [1.0, 0.0, 1.0]]),\n",
    "                 pbc=True)\n",
    "    atoms = atoms.repeat((2, 2, 2))\n",
    "    atoms.set_tags(np.ones(len(atoms)))\n",
    "\n",
    "    out = calc.embed(atoms)\n",
    "    \n",
    "    cossim1.append(torch.cosine_similarity(x1, out[\"h sum\"]).item())\n",
    "    cossim2.append(torch.cosine_similarity(x2, out[\"x_E sum\"]).item())\n",
    "    cossim3.append(torch.cosine_similarity(x3, out[\"x_F sum\"]).item())\n",
    "    E += [out['energy']]"
   ]
  },
  {
   "cell_type": "markdown",
   "id": "38dd1e0a",
   "metadata": {},
   "source": [
    "Now we plot the results."
   ]
  },
  {
   "cell_type": "code",
   "execution_count": null,
   "id": "3ac3501f",
   "metadata": {},
   "outputs": [],
   "source": [
    "_, (ax1, ax2) = plt.subplots(2, 1)    \n",
    "\n",
    "ax1.plot(LC, E)\n",
    "ax1.set_ylabel('Energy (eV)')\n",
    "ax2.plot(LC, cossim1, label=\"h\")\n",
    "ax2.plot(LC, cossim2, label=\"x_E\")\n",
    "ax2.plot(LC, cossim3, label=\"x_F\")\n",
    "ax2.axvline(3.63, c='k', ls='--')\n",
    "ax2.legend()\n",
    "\n",
    "\n",
    "plt.xlabel('Lattice constant ($\\AA$)')\n",
    "plt.ylabel(f'Similarity to LC={a0}')\n",
    "\n",
    "plt.tight_layout()"
   ]
  },
  {
   "cell_type": "markdown",
   "id": "cede6388",
   "metadata": {},
   "source": [
    "We can see that near the minimum the different embeddings are all quite similar. But, near the unphysical peak, the x_E embedding shows a significant deviation. The atomic energy is linear in this embedding, which is why we see the peak. This means the embedding is not sufficiently trained in this region, and fine-tuning should be considered with data in that region."
   ]
  },
  {
   "cell_type": "markdown",
   "id": "f8092cc6",
   "metadata": {},
   "source": [
    "# A clustering example\n",
    "\n",
    "We use this example to show that we can cluster structures by embedding similarities. We compute 20 configurations of an octahedral nanoparticle, and 20 configurations of a bulk Cu structure. We accumulate these into a list of vectors. We use 20 configurations from the nanoparticle, and 40 configurations for the bulk. That will make it easy to see which clusters are which later."
   ]
  },
  {
   "cell_type": "code",
   "execution_count": null,
   "id": "6598aaf5",
   "metadata": {},
   "outputs": [],
   "source": [
    "from ase.build import bulk\n",
    "from ase.cluster import Octahedron\n",
    "\n",
    "calc.trainer._unwrapped_model.return_embedding = True\n",
    "\n",
    "embeddings = []\n",
    "labels = []\n",
    "\n",
    "oct = Octahedron('Cu', 2)\n",
    "oct.set_tags(np.ones(len(oct)))\n",
    "\n",
    "for i in range(20):\n",
    "    oct.rattle(0.01)\n",
    "    embeddings += [calc.embed(oct)['x_E sum'][0].numpy()]\n",
    "    labels += [0]"
   ]
  },
  {
   "cell_type": "code",
   "execution_count": null,
   "id": "653651f6",
   "metadata": {},
   "outputs": [],
   "source": [
    "b = bulk('Cu')\n",
    "b = b.repeat((2, 2, 2))\n",
    "b.set_tags(np.ones(len(b)))\n",
    "\n",
    "for i in range(40):\n",
    "    b.rattle(0.01)\n",
    "    embeddings += [calc.embed(b)['x_E sum'][0].numpy()]\n",
    "    labels += [1]"
   ]
  },
  {
   "cell_type": "code",
   "execution_count": null,
   "id": "06ded93b",
   "metadata": {},
   "outputs": [],
   "source": [
    "embeddings = np.array(embeddings)\n",
    "embeddings.shape"
   ]
  },
  {
   "cell_type": "markdown",
   "id": "dd7e40e9",
   "metadata": {},
   "source": [
    "Now we use a tool like umap. This will take the 40 vectors with 256 dimensions each, and reduce these to two dimennsions where similar embeddings remain close together. You should see two clusters. The one labeled 1 with 40 points is the bulk set."
   ]
  },
  {
   "cell_type": "code",
   "execution_count": null,
   "id": "3820a6af",
   "metadata": {},
   "outputs": [],
   "source": [
    "import umap\n",
    "\n",
    "um = umap.UMAP(random_state=42).fit_transform(embeddings)"
   ]
  },
  {
   "cell_type": "code",
   "execution_count": null,
   "id": "c3211f96",
   "metadata": {},
   "outputs": [],
   "source": [
    "plt.scatter(*um.T, c=labels, s=5, cmap='Spectral')\n",
    "plt.colorbar();"
   ]
  },
  {
   "cell_type": "markdown",
   "id": "f9fd3707",
   "metadata": {},
   "source": [
    "## Clustering individual atoms\n",
    "\n",
    "If we get the atomic embeddings, we can cluster them by similarity too. Here we look at how many kinds of atoms there are in an Octahedron cluster and bulk system. We color code the clusters by the atomic energy of each atom."
   ]
  },
  {
   "cell_type": "code",
   "execution_count": null,
   "id": "cd4561c6",
   "metadata": {},
   "outputs": [],
   "source": [
    "embeddings = []\n",
    "labels = []\n",
    "energies = []\n",
    "\n",
    "oct = Octahedron('Cu', 2)\n",
    "oct.set_tags(np.ones(len(oct)))\n",
    "\n",
    "for i in range(20):\n",
    "    oct.rattle(0.01)\n",
    "    out = calc.embed(oct)\n",
    "    for a in out['h'][0]:\n",
    "        embeddings += [a.numpy()]\n",
    "        labels += [0]\n",
    "        energies += [out['energy']]\n",
    "\n",
    "b = bulk('Cu')\n",
    "b = b.repeat((2, 2, 2))\n",
    "b.set_tags(np.ones(len(b)))\n",
    "\n",
    "for i in range(20):\n",
    "    b.rattle(0.01)\n",
    "    out = calc.embed(b)\n",
    "    for a in out['h'][0]:\n",
    "        embeddings += [a.numpy()]\n",
    "        labels += [1]\n",
    "        energies += [out['energy']]\n",
    "        \n",
    "embeddings = np.array(embeddings)\n",
    "\n",
    "um = umap.UMAP(random_state=42).fit_transform(embeddings)\n",
    "plt.scatter(*um.T, c=energies, cmap='Spectral')\n",
    "plt.colorbar();"
   ]
  },
  {
   "cell_type": "markdown",
   "id": "87741062",
   "metadata": {},
   "source": [
    "You can see from this there are roughly three kinds of atoms. One is bulk like, with the lowest energy (the dark red points), the second is also lower in energy (the reddish-orange points), and the others are surface atoms, with higher energies (the bluish points)."
   ]
  },
  {
   "cell_type": "markdown",
   "id": "5349e1ad",
   "metadata": {},
   "source": [
    "# A simple vector search example\n",
    "\n",
    "In this example we perform a simple vector search in the embedding space. We use [vdict](https://github.com/whitead/vdict) for the vector database here. \n",
    "\n",
    "Our database is very small, it only contains embeddings for ethanol and ethane. After we make it, we search the database to find the atom that is closest to the C atom in methanol. \n",
    "\n",
    "Note in this example, we have to tag all the atoms with 1 for GemnetOC to work.\n",
    "\n",
    "\n",
    "Here we set up the simple database. Each row, or entry, is the actual embedding vector for an atom. That is the key that points to the atom index and the atoms object. I use cosine similarity here. If you use the default (l2) then you may not find anything close enough."
   ]
  },
  {
   "cell_type": "code",
   "execution_count": null,
   "id": "accf25af",
   "metadata": {},
   "outputs": [],
   "source": [
    "import numpy as np\n",
    "from ase.build import molecule\n",
    "from vdict import vdict\n",
    "\n",
    "data = vdict(space='cosine')\n",
    "\n",
    "ethanol = molecule('CH3CH2OH')\n",
    "ethanol.set_tags(np.ones(len(ethanol)))\n",
    "ethanol_emb = calc.embed(ethanol)\n",
    "\n",
    "methane = molecule('C2H6')\n",
    "methane.set_tags(np.ones(len(methane)))\n",
    "methane_emb = calc.embed(methane)\n",
    "\n",
    "for i, atom in enumerate(ethanol):\n",
    "    data[ethanol_emb['x_E'][0][i].numpy()] = [i, ethanol]\n",
    "    \n",
    "for i, atom in enumerate(methane):\n",
    "    data[methane_emb['x_E'][0][i].numpy()] = [i, methane]"
   ]
  },
  {
   "cell_type": "markdown",
   "id": "39ba5640",
   "metadata": {},
   "source": [
    "Now we construct our \"query\". We inspect the Atoms object, see that the C atom is the first one, and then extract the embedding for that atom and save it in a variable."
   ]
  },
  {
   "cell_type": "code",
   "execution_count": null,
   "id": "2cfb2a62",
   "metadata": {},
   "outputs": [],
   "source": [
    "methanol = molecule('CH3OH')\n",
    "methanol.set_tags(np.ones(len(methanol)))\n",
    "methanol_emb = calc.embed(methanol)\n",
    "methanol"
   ]
  },
  {
   "cell_type": "code",
   "execution_count": null,
   "id": "8f9838bd",
   "metadata": {},
   "outputs": [],
   "source": [
    "query = methanol_emb['x_E'][0][0].numpy()"
   ]
  },
  {
   "cell_type": "markdown",
   "id": "091b9965",
   "metadata": {},
   "source": [
    "We run our search with the syntax like a dictionary. It returns the closest found match."
   ]
  },
  {
   "cell_type": "code",
   "execution_count": null,
   "id": "288fc7b5",
   "metadata": {},
   "outputs": [],
   "source": [
    "i, found = data[query]\n",
    "i, found[i]"
   ]
  },
  {
   "cell_type": "code",
   "execution_count": null,
   "id": "8f6aad76",
   "metadata": {},
   "outputs": [],
   "source": [
    "for ind, atom in enumerate(found):\n",
    "    print(ind, atom)"
   ]
  },
  {
   "cell_type": "markdown",
   "id": "787a6a54",
   "metadata": {},
   "source": [
    "This finds the second carbon in the molecule. That is the one that is closest to the oxygen atom. That means it is more similar to the methanol carbon than the first carbon in ethanol which is a CH3, but it is farther from the oxygen atom.\n",
    "\n",
    "This is pretty remarkable! The query had no explicit information about C in it other than the embedding for that atom, and it found another atom that was similar."
   ]
  },
  {
   "cell_type": "code",
   "execution_count": null,
   "id": "24f19cc4",
   "metadata": {},
   "outputs": [],
   "source": [
    "found.get_distance(0, 2), found.get_distance(1, 2)"
   ]
  },
  {
   "cell_type": "code",
   "execution_count": null,
   "id": "0b764721",
   "metadata": {},
   "outputs": [],
   "source": [
    "from ase.visualize.plot import plot_atoms\n",
    "plot_atoms(found)"
   ]
  }
 ],
 "metadata": {
  "kernelspec": {
   "display_name": "Python 3 (ipykernel)",
   "language": "python",
   "name": "python3"
  }
 },
 "nbformat": 4,
 "nbformat_minor": 5
}
