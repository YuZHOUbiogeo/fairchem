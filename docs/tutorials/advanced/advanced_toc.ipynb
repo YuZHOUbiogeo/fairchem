{
 "cells": [
  {
   "cell_type": "markdown",
   "id": "3725ef66",
   "metadata": {},
   "source": [
    "# Advanced OCP usage\n",
    "\n",
    "See the sections of this tutorial to the left to get started!\n",
    "\n",
    "```{tableofcontents}\n",
    "```"
   ]
  }
 ],
 "metadata": {
  "jupytext": {
   "cell_metadata_filter": "-all",
   "main_language": "python",
   "notebook_metadata_filter": "-all"
  }
 },
 "nbformat": 4,
 "nbformat_minor": 5
}
