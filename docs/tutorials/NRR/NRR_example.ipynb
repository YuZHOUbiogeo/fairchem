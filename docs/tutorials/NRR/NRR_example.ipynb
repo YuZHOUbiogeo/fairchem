{
 "cells": [
  {
   "cell_type": "markdown",
   "id": "261301e8",
   "metadata": {},
   "source": [
    "Using OCP to enumerate adsorbates on alloy catalyst surfaces\n",
    "======================================================\n",
    "\n",
    "\n",
    "\n",
    "In the previous example, we constructed slab models of adsorbates on desired sites. Here we leverage code to automate this process. The goal in this section is to generate candidate structures, compute energetics, and then filter out the most relevant ones."
   ]
  },
  {
   "cell_type": "code",
   "execution_count": null,
   "id": "6dca4f7a",
   "metadata": {},
   "outputs": [],
   "source": [
    "from fairchem.core.common.relaxation.ase_utils import OCPCalculator\n",
    "import ase.io\n",
    "from ase.optimize import BFGS\n",
    "import sys\n",
    "from scipy.stats import linregress\n",
    "import pickle\n",
    "import matplotlib.pyplot as plt\n",
    "import time\n",
    "\n",
    "from fairchem.data.oc.core import Adsorbate, AdsorbateSlabConfig, Bulk, Slab\n",
    "import os\n",
    "from glob import glob\n",
    "import pandas as pd\n",
    "from fairchem.data.oc.utils import DetectTrajAnomaly"
   ]
  },
  {
   "cell_type": "code",
   "execution_count": null,
   "id": "cd3a3709",
   "metadata": {},
   "outputs": [],
   "source": [
    "from fairchem.core.models.model_registry import model_name_to_local_file\n",
    "\n",
    "checkpoint_path = model_name_to_local_file('EquiformerV2-31M-S2EF-OC20-All+MD', local_cache='/tmp/ocp_checkpoints/')\n",
    "checkpoint_path"
   ]
  },
  {
   "cell_type": "markdown",
   "id": "76c10f4b",
   "metadata": {},
   "source": [
    "# Introduction\n",
    "\n",
    "We will reproduce Fig 6b from the following paper: Zhou, Jing, et al. \"Enhanced Catalytic Activity of Bimetallic Ordered Catalysts for Nitrogen Reduction Reaction by Perturbation of Scaling Relations.\" ACS Catalysis 134 (2023): 2190-2201 (https://doi.org/10.1021/acscatal.2c05877).\n",
    "\n",
    "The gist of this figure is a correlation between H* and NNH* adsorbates across many different alloy surfaces. Then, they identify a dividing line between these that separates surfaces known for HER and those known for NRR.\n",
    "\n",
    "To do this, we will enumerate adsorbate-slab configurations and run ML relaxations on them to find the lowest energy configuration. We will assess parity between the model predicted values and those reported in the paper. Finally we will make the figure and assess separability of the NRR favored and HER favored domains."
   ]
  },
  {
   "cell_type": "markdown",
   "id": "0363158e",
   "metadata": {},
   "source": [
    "# Enumerate the adsorbate-slab configurations to run relaxations on"
   ]
  },
  {
   "cell_type": "markdown",
   "id": "6407aec0",
   "metadata": {},
   "source": [
    "Be sure to set the path in `fairchem/data/oc/configs/paths.py` to point to the correct place or pass the paths as an argument. The database pickles can be found in `fairchem/data/oc/databases/pkls`. We will show one explicitly here as an example and then run all of them in an automated fashion for brevity."
   ]
  },
  {
   "cell_type": "code",
   "execution_count": null,
   "id": "f5165e0d",
   "metadata": {},
   "outputs": [],
   "source": [
    "import fairchem.data.oc\n",
    "from pathlib import Path\n",
    "db = Path(fairchem.data.oc.__file__).parent / Path('databases/pkls/adsorbates.pkl')\n",
    "db"
   ]
  },
  {
   "cell_type": "markdown",
   "id": "97dc213b",
   "metadata": {},
   "source": [
    "## Work out a single example\n",
    "\n",
    "We load one bulk id, create a bulk reference structure from it, then generate the surfaces we want to compute."
   ]
  },
  {
   "cell_type": "code",
   "execution_count": null,
   "id": "e7d4d558",
   "metadata": {},
   "outputs": [],
   "source": [
    "bulk_src_id = \"oqmd-343039\"\n",
    "adsorbate_smiles_nnh = \"*N*NH\"\n",
    "adsorbate_smiles_h = \"*H\"\n",
    "\n",
    "bulk = Bulk(bulk_src_id_from_db = bulk_src_id, bulk_db_path=\"NRR_example_bulks.pkl\")\n",
    "adsorbate_H = Adsorbate(adsorbate_smiles_from_db = adsorbate_smiles_h, adsorbate_db_path=db)\n",
    "adsorbate_NNH = Adsorbate(adsorbate_smiles_from_db = adsorbate_smiles_nnh, adsorbate_db_path=db)\n",
    "slab = Slab.from_bulk_get_specific_millers(bulk= bulk, specific_millers = (1, 1, 1))\n",
    "slab"
   ]
  },
  {
   "cell_type": "markdown",
   "id": "bf3131aa",
   "metadata": {},
   "source": [
    "We now need to generate potential placements. We use two kinds of guesses, a heuristic and a random approach. This cell generates 13 potential adsorption geometries."
   ]
  },
  {
   "cell_type": "code",
   "execution_count": null,
   "id": "dcb12aa1",
   "metadata": {},
   "outputs": [],
   "source": [
    "# Perform heuristic placements\n",
    "heuristic_adslabs = AdsorbateSlabConfig(slab[0], adsorbate_H, mode=\"heuristic\")\n",
    "\n",
    "# Perform random placements\n",
    "# (for AdsorbML we use `num_sites = 100` but we will use 4 for brevity here)\n",
    "random_adslabs = AdsorbateSlabConfig(slab[0], adsorbate_H, mode=\"random_site_heuristic_placement\", num_sites=4)\n",
    "\n",
    "adslabs = [*heuristic_adslabs.atoms_list, *random_adslabs.atoms_list]\n",
    "len(adslabs)"
   ]
  },
  {
   "cell_type": "markdown",
   "id": "aea32c11",
   "metadata": {},
   "source": [
    "Let's see what we are looking at. It is a little tricky to see the tiny H atom in these figures, but with some inspection you can see there are ontop, bridge, and hollow sites in different places. This is not an exhaustive search; you can increase the number of random placements to check more possibilities. The main idea here is to *increase* the probability you find the most relevant sites."
   ]
  },
  {
   "cell_type": "code",
   "execution_count": null,
   "id": "e1f16fc9",
   "metadata": {},
   "outputs": [],
   "source": [
    "import matplotlib.pyplot as plt\n",
    "from ase.visualize.plot import plot_atoms\n",
    "\n",
    "fig, axs = plt.subplots(4, 4)\n",
    "\n",
    "for i, slab in enumerate(adslabs):\n",
    "    plot_atoms(slab, axs[i % 4, i // 4]);\n",
    "    axs[i % 4, i // 4].set_axis_off()\n",
    "    \n",
    "for i in range(16):\n",
    "    axs[i % 4, i // 4].set_axis_off()\n",
    "\n",
    "plt.tight_layout()   "
   ]
  },
  {
   "cell_type": "markdown",
   "id": "dec8b2a9",
   "metadata": {},
   "source": [
    "### Run an ML relaxation\n",
    "\n",
    "We will use an ASE compatible calculator to run these."
   ]
  },
  {
   "cell_type": "markdown",
   "id": "dd7c1e66",
   "metadata": {},
   "source": [
    "Running the model with BFGS prints at each relaxation step which is a lot to print. So we will just run one to demonstrate what happens on each iteration."
   ]
  },
  {
   "cell_type": "code",
   "execution_count": null,
   "id": "ffe736b2",
   "metadata": {},
   "outputs": [],
   "source": [
    "os.makedirs(f\"data/{bulk_src_id}_{adsorbate_smiles_h}\", exist_ok=True)\n",
    "\n",
    "# Define the calculator\n",
    "calc = OCPCalculator(checkpoint_path=checkpoint_path, cpu=False)   # if you have a GPU\n",
    "# calc = OCPCalculator(checkpoint_path=checkpoint_path, cpu=True)  # If you have CPU only"
   ]
  },
  {
   "cell_type": "markdown",
   "id": "2fd4c031",
   "metadata": {},
   "source": [
    "Now we setup and run the relaxation."
   ]
  },
  {
   "cell_type": "code",
   "execution_count": null,
   "id": "1acec03f",
   "metadata": {},
   "outputs": [],
   "source": [
    "t0 = time.time()\n",
    "os.makedirs(f\"data/{bulk_src_id}_H\", exist_ok=True)\n",
    "adslab = adslabs[0]\n",
    "adslab.calc = calc\n",
    "opt = BFGS(adslab, trajectory=f\"data/{bulk_src_id}_H/test.traj\")\n",
    "opt.run(fmax=0.05, steps=100)\n",
    "\n",
    "print(f'Elapsed time {time.time() - t0:1.1f} seconds')"
   ]
  },
  {
   "cell_type": "markdown",
   "id": "d2773733",
   "metadata": {},
   "source": [
    "With a GPU this runs pretty quickly. It is much slower on a CPU."
   ]
  },
  {
   "cell_type": "markdown",
   "id": "d306f73f",
   "metadata": {},
   "source": [
    "# Run all the systems\n",
    "\n",
    "In principle you can run all the systems now. It takes about an hour though, and we leave that for a later exercise if you want. For now we will run the first two, and for later analysis we provide a results file of all the runs. Let's read in our reference file and take a look at what is in it."
   ]
  },
  {
   "cell_type": "code",
   "execution_count": null,
   "id": "1103ce8c",
   "metadata": {},
   "outputs": [],
   "source": [
    "with open(\"NRR_example_bulks.pkl\", \"rb\") as f:\n",
    "    bulks = pickle.load(f)\n",
    "    \n",
    "bulks"
   ]
  },
  {
   "cell_type": "markdown",
   "id": "eefc08b1",
   "metadata": {},
   "source": [
    "We have 19 bulk materials we will consider. Next we extract the `src-id` for each one."
   ]
  },
  {
   "cell_type": "code",
   "execution_count": null,
   "id": "60520734",
   "metadata": {},
   "outputs": [],
   "source": [
    "bulk_ids = [row['src_id'] for row in bulks]"
   ]
  },
  {
   "cell_type": "markdown",
   "id": "2271910f",
   "metadata": {},
   "source": [
    "In theory you would run all of these, but it takes about an hour with a GPU. We provide the relaxation logs and trajectories in the repo for the next step.\n",
    "\n",
    "These steps are embarrassingly parallel, and can be launched that way to speed things up. The only thing you need to watch is that you don't exceed the available RAM, which will cause the Jupyter kernel to crash."
   ]
  },
  {
   "cell_type": "markdown",
   "id": "f2174818",
   "metadata": {},
   "source": [
    "The goal here is to relax each candidate adsorption geometry and save the results in a trajectory file we will analyze later. Each trajectory file will have the geometry and final energy of the relaxed structure. \n",
    "\n",
    "It is somewhat time consuming to run this, so in this cell we only run one example, and just the first 4 configurations for each adsorbate."
   ]
  },
  {
   "cell_type": "code",
   "execution_count": null,
   "id": "3b0745fb",
   "metadata": {},
   "outputs": [],
   "source": [
    "import time\n",
    "from tqdm import tqdm\n",
    "tinit = time.time()\n",
    "\n",
    "# Note we're just doing the first bulk_id! \n",
    "for bulk_src_id in tqdm(bulk_ids[:1]): \n",
    "    # Enumerate slabs and establish adsorbates\n",
    "    bulk = Bulk(bulk_src_id_from_db=bulk_src_id, bulk_db_path=\"NRR_example_bulks.pkl\")\n",
    "    slab = Slab.from_bulk_get_specific_millers(bulk= bulk, specific_millers=(1, 1, 1))\n",
    "\n",
    "    # Perform heuristic placements\n",
    "    heuristic_adslabs_H = AdsorbateSlabConfig(slab[0], adsorbate_H, mode=\"heuristic\")\n",
    "    heuristic_adslabs_NNH = AdsorbateSlabConfig(slab[0], adsorbate_NNH, mode=\"heuristic\")\n",
    "\n",
    "    #Run relaxations\n",
    "    os.makedirs(f\"data/{bulk_src_id}_H\", exist_ok=True)\n",
    "    os.makedirs(f\"data/{bulk_src_id}_NNH\", exist_ok=True)\n",
    "\n",
    "    print(f'{len(heuristic_adslabs_H.atoms_list)} H slabs to compute for {bulk_src_id}')\n",
    "    print(f'{len(heuristic_adslabs_NNH.atoms_list)} NNH slabs to compute for {bulk_src_id}')\n",
    "\n",
    "    # Set up the calculator, note we're doing just the first 4 configs to keep this fast for the online documentation!\n",
    "    for idx, adslab in enumerate(heuristic_adslabs_H.atoms_list[:4]):\n",
    "        t0 = time.time()\n",
    "        adslab.calc = calc\n",
    "        print(f'Running data/{bulk_src_id}_H/{idx}')\n",
    "        opt = BFGS(adslab, trajectory=f\"data/{bulk_src_id}_H/{idx}.traj\", logfile=f\"data/{bulk_src_id}_H/{idx}.log\")\n",
    "        opt.run(fmax=0.05, steps=20)\n",
    "        print(f'  Elapsed time: {time.time() - t0:1.1f} seconds for data/{bulk_src_id}_H/{idx}')\n",
    "        \n",
    "    # Set up the calculator, note we're doing just the first 4 configs to keep this fast for the online documentation!\n",
    "    for idx, adslab in enumerate(heuristic_adslabs_NNH.atoms_list[:4]):\n",
    "        t0 = time.time()\n",
    "        adslab.calc = calc\n",
    "        print(f'Running data/{bulk_src_id}_NNH/{idx}')\n",
    "        opt = BFGS(adslab, trajectory=f\"data/{bulk_src_id}_NNH/{idx}.traj\", logfile=f\"data/{bulk_src_id}_NNH/{idx}.log\")\n",
    "        opt.run(fmax=0.05, steps=50)\n",
    "        print(f'  Elapsed time: {time.time() - t0:1.1f} seconds for data/{bulk_src_id}_NNH/{idx}')\n",
    "\n",
    "print(f'Elapsed time: {time.time() - tinit:1.1f} seconds')"
   ]
  },
  {
   "cell_type": "markdown",
   "id": "24b5f808",
   "metadata": {},
   "source": [
    "This cell runs all the examples. I don't recommend you run this during the workshop. Instead, we have saved the results for the subsequent analyses so you can skip this one."
   ]
  },
  {
   "cell_type": "code",
   "execution_count": null,
   "id": "696cf1f4",
   "metadata": {
    "tags": [
     "skip-execution"
    ]
   },
   "outputs": [],
   "source": [
    "import time\n",
    "from tqdm import tqdm\n",
    "tinit = time.time()\n",
    "\n",
    "for bulk_src_id in tqdm(bulk_ids): \n",
    "    # Enumerate slabs and establish adsorbates\n",
    "    bulk = Bulk(bulk_src_id_from_db=bulk_src_id, bulk_db_path=\"NRR_example_bulks.pkl\")\n",
    "    slab = Slab.from_bulk_get_specific_millers(bulk= bulk, specific_millers=(1, 1, 1))\n",
    "\n",
    "    # Perform heuristic placements\n",
    "    heuristic_adslabs_H = AdsorbateSlabConfig(slab[0], adsorbate_H, mode=\"heuristic\")\n",
    "    heuristic_adslabs_NNH = AdsorbateSlabConfig(slab[0], adsorbate_NNH, mode=\"heuristic\")\n",
    "\n",
    "    #Run relaxations\n",
    "    os.makedirs(f\"data/{bulk_src_id}_H\", exist_ok=True)\n",
    "    os.makedirs(f\"data/{bulk_src_id}_NNH\", exist_ok=True)\n",
    "\n",
    "    print(f'{len(heuristic_adslabs_H.atoms_list)} H slabs to compute for {bulk_src_id}')\n",
    "    print(f'{len(heuristic_adslabs_NNH.atoms_list)} NNH slabs to compute for {bulk_src_id}')\n",
    "\n",
    "    # Set up the calculator\n",
    "    for idx, adslab in enumerate(heuristic_adslabs_H.atoms_list):\n",
    "        t0 = time.time()\n",
    "        adslab.calc = calc\n",
    "        print(f'Running data/{bulk_src_id}_H/{idx}')\n",
    "        opt = BFGS(adslab, trajectory=f\"data/{bulk_src_id}_H/{idx}.traj\", logfile=f\"data/{bulk_src_id}_H/{idx}.log\")\n",
    "        opt.run(fmax=0.05, steps=20)\n",
    "        print(f'  Elapsed time: {time.time() - t0:1.1f} seconds for data/{bulk_src_id}_H/{idx}')\n",
    "        \n",
    "    for idx, adslab in enumerate(heuristic_adslabs_NNH.atoms_list):\n",
    "        t0 = time.time()\n",
    "        adslab.calc = calc\n",
    "        print(f'Running data/{bulk_src_id}_NNH/{idx}')\n",
    "        opt = BFGS(adslab, trajectory=f\"data/{bulk_src_id}_NNH/{idx}.traj\", logfile=f\"data/{bulk_src_id}_NNH/{idx}.log\")\n",
    "        opt.run(fmax=0.05, steps=50)\n",
    "        print(f'  Elapsed time: {time.time() - t0:1.1f} seconds for data/{bulk_src_id}_NNH/{idx}')\n",
    "\n",
    "print(f'Elapsed time: {time.time() - tinit:1.1f} seconds')"
   ]
  },
  {
   "cell_type": "markdown",
   "id": "f9bc70da",
   "metadata": {},
   "source": [
    "# Parse the trajectories and post-process\n",
    "\n",
    "As a post-processing step we check to see if:\n",
    "\n",
    "1. the adsorbate desorbed\n",
    "2. the adsorbate disassociated\n",
    "3. the adsorbate intercalated\n",
    "4. the surface has changed\n",
    "\n",
    "We check these because they affect our referencing scheme and may result in energies that don't mean what we think, e.g. they aren't just adsorption, but include contributions from other things like desorption, dissociation or reconstruction. For (4), the relaxed surface should really be supplied as well. It will be necessary when correcting the SP / RX energies later. Since we don't have it here, we will ommit supplying it, and the detector will instead compare the initial and final slab from the adsorbate-slab relaxation trajectory. If a relaxed slab is provided, the detector will compare it and the slab after the adsorbate-slab relaxation. The latter is more correct!\n",
    "\n",
    "In this loop we find the most stable (most negative) adsorption energy for each adsorbate on each surface and save them in a DataFrame."
   ]
  },
  {
   "cell_type": "code",
   "execution_count": null,
   "id": "2e98365b",
   "metadata": {},
   "outputs": [],
   "source": [
    "# Iterate over trajs to extract results\n",
    "min_E = []\n",
    "for file_outer in glob(\"data/*\"):\n",
    "    ads = file_outer.split(\"_\")[1]\n",
    "    bulk = file_outer.split(\"/\")[1].split(\"_\")[0]\n",
    "    results = []\n",
    "    for file in glob(f\"{file_outer}/*.traj\"):\n",
    "        rx_id = file.split(\"/\")[-1].split(\".\")[0]\n",
    "        traj = ase.io.read(file, \":\")\n",
    "\n",
    "        # Check to see if the trajectory is anomolous\n",
    "        detector = DetectTrajAnomaly(traj[0], traj[-1], traj[0].get_tags())\n",
    "        anom = (\n",
    "            detector.is_adsorbate_dissociated()\n",
    "            or detector.is_adsorbate_desorbed()\n",
    "            or detector.has_surface_changed()\n",
    "            or detector.is_adsorbate_intercalated()\n",
    "        )\n",
    "        rx_energy = traj[-1].get_potential_energy()\n",
    "        results.append({\"relaxation_idx\": rx_id, \"relaxed_atoms\": traj[-1],\n",
    "                        \"relaxed_energy_ml\": rx_energy, \"anomolous\": anom})\n",
    "    df = pd.DataFrame(results)\n",
    "\n",
    "    df = df[~df.anomolous].copy().reset_index()\n",
    "    min_e = min(df.relaxed_energy_ml.tolist())\n",
    "    min_E.append({\"adsorbate\":ads, \"bulk_id\":bulk, \"min_E_ml\": min_e})\n",
    "\n",
    "df = pd.DataFrame(min_E)\n",
    "df_h = df[df.adsorbate == \"H\"]\n",
    "df_nnh = df[df.adsorbate == \"NNH\"]\n",
    "df_flat = df_h.merge(df_nnh, on = \"bulk_id\")"
   ]
  },
  {
   "cell_type": "markdown",
   "id": "dece96c5",
   "metadata": {},
   "source": [
    "# Make parity plots for values obtained by ML v. reported in the paper"
   ]
  },
  {
   "cell_type": "code",
   "execution_count": null,
   "id": "ee528d8f",
   "metadata": {},
   "outputs": [],
   "source": [
    "# Add literature data to the dataframe\n",
    "with open(\"literature_data.pkl\", \"rb\") as f:\n",
    "    literature_data = pickle.load(f)\n",
    "df_all = df_flat.merge(pd.DataFrame(literature_data), on = \"bulk_id\")"
   ]
  },
  {
   "cell_type": "code",
   "execution_count": null,
   "id": "062ac20f",
   "metadata": {},
   "outputs": [],
   "source": [
    "f, (ax1, ax2) = plt.subplots(1, 2, sharey=True)\n",
    "f.set_figheight(15)\n",
    "x = df_all.min_E_ml_x.tolist()\n",
    "y = df_all.E_lit_H.tolist()\n",
    "ax1.set_title(\"*H parity\")\n",
    "ax1.plot([-3.5, 2], [-3.5, 2], \"k-\", linewidth=3)\n",
    "slope, intercept, r, p, se = linregress(x, y)\n",
    "ax1.plot(\n",
    "    [-3.5, 2],\n",
    "    [\n",
    "        -3.5 * slope + intercept,\n",
    "        2 * slope + intercept,\n",
    "    ],\n",
    "    \"k--\",\n",
    "    linewidth=2,\n",
    ")\n",
    "\n",
    "ax1.legend(\n",
    "    [\n",
    "        \"y = x\",\n",
    "        f\"y = {slope:1.2f} x + {intercept:1.2f}, R-sq = {r**2:1.2f}\",\n",
    "    ],\n",
    "    loc=\"upper left\",\n",
    ")\n",
    "ax1.scatter(x, y)\n",
    "ax1.axis(\"square\")\n",
    "ax1.set_xlim([-3.5, 2])\n",
    "ax1.set_ylim([-3.5, 2])\n",
    "ax1.set_xlabel(\"dE predicted OCP [eV]\")\n",
    "ax1.set_ylabel(\"dE NRR paper [eV]\");\n",
    "\n",
    "\n",
    "x = df_all.min_E_ml_y.tolist()\n",
    "y = df_all.E_lit_NNH.tolist()\n",
    "ax2.set_title(\"*N*NH parity\")\n",
    "ax2.plot([-3.5, 2], [-3.5, 2], \"k-\", linewidth=3)\n",
    "slope, intercept, r, p, se = linregress(x, y)\n",
    "ax2.plot(\n",
    "    [-3.5, 2],\n",
    "    [\n",
    "        -3.5 * slope + intercept,\n",
    "        2 * slope + intercept,\n",
    "    ],\n",
    "    \"k--\",\n",
    "    linewidth=2,\n",
    ")\n",
    "\n",
    "ax2.legend(\n",
    "    [\n",
    "        \"y = x\",\n",
    "        f\"y = {slope:1.2f} x + {intercept:1.2f}, R-sq = {r**2:1.2f}\",\n",
    "    ],\n",
    "    loc=\"upper left\",\n",
    ")\n",
    "ax2.scatter(x, y)\n",
    "ax2.axis(\"square\")\n",
    "ax2.set_xlim([-3.5, 2])\n",
    "ax2.set_ylim([-3.5, 2])\n",
    "ax2.set_xlabel(\"dE predicted OCP [eV]\")\n",
    "ax2.set_ylabel(\"dE NRR paper [eV]\");\n",
    "f.set_figwidth(15)\n",
    "f.set_figheight(7)"
   ]
  },
  {
   "cell_type": "markdown",
   "id": "bb7c0d19",
   "metadata": {},
   "source": [
    "# Make figure 6b and compare to literature results"
   ]
  },
  {
   "cell_type": "code",
   "execution_count": null,
   "id": "83d8c08c",
   "metadata": {},
   "outputs": [],
   "source": [
    "f, (ax1, ax2) = plt.subplots(1, 2, sharey=True)\n",
    "x = df_all[df_all.reaction == \"HER\"].min_E_ml_y.tolist()\n",
    "y = df_all[df_all.reaction == \"HER\"].min_E_ml_x.tolist()\n",
    "comp = df_all[df_all.reaction == \"HER\"].composition.tolist()\n",
    "\n",
    "ax1.scatter(x, y,c= \"r\", label = \"HER\")\n",
    "for i, txt in enumerate(comp):\n",
    "    ax1.annotate(txt, (x[i], y[i]))\n",
    "\n",
    "x = df_all[df_all.reaction == \"NRR\"].min_E_ml_y.tolist()\n",
    "y = df_all[df_all.reaction == \"NRR\"].min_E_ml_x.tolist()\n",
    "comp = df_all[df_all.reaction == \"NRR\"].composition.tolist()\n",
    "ax1.scatter(x, y,c= \"b\", label = \"NRR\")\n",
    "for i, txt in enumerate(comp):\n",
    "    ax1.annotate(txt, (x[i], y[i]))\n",
    "\n",
    "\n",
    "ax1.legend()\n",
    "ax1.set_xlabel(\"dE *N*NH predicted OCP [eV]\")\n",
    "ax1.set_ylabel(\"dE *H predicted OCP [eV]\")\n",
    "\n",
    "\n",
    "x = df_all[df_all.reaction == \"HER\"].E_lit_NNH.tolist()\n",
    "y = df_all[df_all.reaction == \"HER\"].E_lit_H.tolist()\n",
    "comp = df_all[df_all.reaction == \"HER\"].composition.tolist()\n",
    "\n",
    "ax2.scatter(x, y,c= \"r\", label = \"HER\")\n",
    "for i, txt in enumerate(comp):\n",
    "    ax2.annotate(txt, (x[i], y[i]))\n",
    "\n",
    "x = df_all[df_all.reaction == \"NRR\"].E_lit_NNH.tolist()\n",
    "y = df_all[df_all.reaction == \"NRR\"].E_lit_H.tolist()\n",
    "comp = df_all[df_all.reaction == \"NRR\"].composition.tolist()\n",
    "ax2.scatter(x, y,c= \"b\", label = \"NRR\")\n",
    "for i, txt in enumerate(comp):\n",
    "    ax2.annotate(txt, (x[i], y[i]))\n",
    "\n",
    "ax2.legend()\n",
    "ax2.set_xlabel(\"dE *N*NH literature [eV]\")\n",
    "ax2.set_ylabel(\"dE *H literature [eV]\")\n",
    "f.set_figwidth(15)\n",
    "f.set_figheight(7)"
   ]
  }
 ],
 "metadata": {
  "kernelspec": {
   "display_name": "Python 3 (ipykernel)",
   "language": "python",
   "name": "python3"
  }
 },
 "nbformat": 4,
 "nbformat_minor": 5
}
