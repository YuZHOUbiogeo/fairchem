{
 "cells": [
  {
   "cell_type": "markdown",
   "id": "3310acc9",
   "metadata": {},
   "source": [
    "# Screening catalysts with OCP\n",
    "\n",
    "See the sections of this tutorial to the left to get started!\n",
    "\n",
    "```{tableofcontents}\n",
    "```"
   ]
  }
 ],
 "metadata": {
  "jupytext": {
   "cell_metadata_filter": "-all",
   "main_language": "python",
   "notebook_metadata_filter": "-all"
  }
 },
 "nbformat": 4,
 "nbformat_minor": 5
}
