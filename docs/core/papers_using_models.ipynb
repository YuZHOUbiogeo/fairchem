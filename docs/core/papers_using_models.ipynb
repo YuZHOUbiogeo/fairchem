{
 "cells": [
  {
   "cell_type": "markdown",
   "id": "0ecf4550",
   "metadata": {},
   "source": [
    "# Studies that have leveraged OCP models\n",
    "\n",
    "Many papers have now used the latest OCP models to accelerate screening and discovery efforts and enable new computational chemistry simulations! \n",
    "We highlight some here just to give an idea of the breadth of possibilities and how they have been used. Feel free to reach out (or submit PRs with links to your papers if you want them included)!\n"
   ]
  }
 ],
 "metadata": {
  "jupytext": {
   "cell_metadata_filter": "-all",
   "main_language": "python",
   "notebook_metadata_filter": "-all"
  }
 },
 "nbformat": 4,
 "nbformat_minor": 5
}
