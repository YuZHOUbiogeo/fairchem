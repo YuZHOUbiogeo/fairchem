{
 "cells": [
  {
   "cell_type": "markdown",
   "id": "1695d804",
   "metadata": {},
   "source": [
    "\n",
    "## Open Direct Air Capture 2023 (ODAC23)\n",
    "\n",
    "### Structure to Energy and Forces (S2EF) task\n",
    "\n",
    "We provide precomputed LMDBs for train, validation, and the various test sets that can be used directly with the dataloaders provided in our code. The LMDBs contain input structures from all points in relaxation trajectories along with the energy of the structure and the atomic forces. The dataset contains an in-domain test set and 4 out-of-domain test sets (ood-large, ood-linker, ood-topology, and ood-linker & topology). All LMDbs  are compressed into a single `.tar.gz` file.\n",
    "\n",
    "|Splits    |Size of compressed version (in bytes)    |Size of uncompressed version (in bytes)    | MD5 checksum (download link)    |\n",
    "|---    |---    |---    |---    |\n",
    "|Train + Validation + Test (all splits)    |  172G  |  476G  | [162f0660b2f1c9209c5b57f7b9e545a7](https://dl.fbaipublicfiles.com/large_objects/dac/datasets/odac23_s2ef.tar.gz )  |\n",
    "|    |    |    |    |\n",
    "\n",
    "The train and val splits are also available in `extxyz` formats. Each trajectory is in stored in a different `extxyz` file.\n",
    "\n",
    "|Splits    |Size of compressed version (in bytes)    |Size of uncompressed version (in bytes)    | MD5 checksum (download link)    |\n",
    "|---    |---    |---    |---    |\n",
    "|Train    |  232G  |  781G  | [381e72fd8b9c055065fd3afff6b0945b](https://dl.fbaipublicfiles.com/large_objects/dac/datasets/extxyz_train.tar.gz )  |\n",
    "|Val    |  5.1G  |  18G  | [09913759c6e0f8d649f7ec9dff9e0e8b](https://dl.fbaipublicfiles.com/dac/datasets/extxyz_val.tar.gz )  |\n",
    "|    |    |    |    |\n",
    "\n",
    "### Initial Structure to Relaxed Structure (IS2RS) / Relaxed Energy (IS2RE) tasks\n",
    "\n",
    "For IS2RE / IS2RS training, validation and test sets, we provide precomputed LMDBs that can be directly used with dataloaders provided in our code. The LMDBs contain input initial structures and the output relaxed structures and energies. The dataset contains an in-domain test set and 4 out-of-domain test sets (ood-large, ood-linker, ood-topology, and ood-linker & topology). All LMDBs are compressed into a single `.tar.gz` file."
   ]
  },
  {
   "cell_type": "markdown",
   "id": "a63ef62c",
   "metadata": {},
   "source": [
    "|Splits    |Size of compressed version (in bytes)    |Size of uncompressed version (in bytes)    | MD5 checksum (download link)    |\n",
    "|---    |---    |---    |---    |\n",
    "|Train + Validation + Test (all splits)    |  809M | 2.2G |  [f7f2f58669a30abae8cb9ba1b7f2bcd2](https://dl.fbaipublicfiles.com/dac/datasets/odac23_is2r.tar.gz )  |\n",
    "|    |    |    |    |\n",
    "\n",
    "### DDEC Charges\n",
    "\n",
    "We provide DDEC charges computed for all MOFs in the ODAC23 dataset. A small number of MOFs (~2%) are missing these charges because the DDEC calcuations failed for them.\n",
    "\n",
    "|Size of compressed version (in bytes)    |Size of uncompressed version (in bytes)    | MD5 checksum (download link)    |\n",
    "|---    |---    |---    |\n",
    "|  147M | 534M |  [81927b78d9e4184cc3c398e79760126a](https://dl.fbaipublicfiles.com/dac/datasets/ddec.tar.gz )  |\n",
    "|    |    |    |"
   ]
  },
  {
   "cell_type": "markdown",
   "id": "6150b096",
   "metadata": {},
   "source": [
    "### Citing ODAC23\n",
    "\n",
    "The OpenDAC 2023 (ODAC23) dataset is licensed under a [Creative Commons Attribution 4.0 License](https://creativecommons.org/licenses/by/4.0/legalcode).\n",
    "\n",
    "Please consider citing the following paper in any research manuscript using the ODAC23 dataset:"
   ]
  },
  {
   "cell_type": "markdown",
   "id": "46c04737",
   "metadata": {},
   "source": [
    "```bibtex\n",
    "@article{odac23_dataset,\n",
    "    author = {Anuroop Sriram and Sihoon Choi and Xiaohan Yu and Logan M. Brabson and Abhishek Das and Zachary Ulissi and Matt Uyttendaele and Andrew J. Medford and David S. Sholl},\n",
    "    title = {The Open DAC 2023 Dataset and Challenges for Sorbent Discovery in Direct Air Capture},\n",
    "    year = {2023},\n",
    "    journal={arXiv preprint arXiv:2311.00341},\n",
    "}\n",
    "```"
   ]
  }
 ],
 "metadata": {
  "jupytext": {
   "cell_metadata_filter": "-all",
   "main_language": "python",
   "notebook_metadata_filter": "-all"
  }
 },
 "nbformat": 4,
 "nbformat_minor": 5
}
