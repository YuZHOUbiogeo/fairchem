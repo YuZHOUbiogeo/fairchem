{
 "cells": [
  {
   "cell_type": "markdown",
   "id": "62be084d",
   "metadata": {},
   "source": [
    "\n",
    "# Open Catalyst 2020 (OC20)\n",
    "\n",
    "*NOTE: Data files for all tasks / splits were updated on Feb 10, 2021 due to minor bugs (affecting < 1% of the data) in earlier versions. If you downloaded data before Feb 10, 2021, please re-download the data.*"
   ]
  },
  {
   "cell_type": "markdown",
   "id": "f5e7cd43",
   "metadata": {},
   "source": [
    "## Download and preprocess the dataset\n",
    "\n",
    "IS2* datasets are stored as LMDB files and are ready to be used upon download.\n",
    "S2EF train+val datasets require an additional preprocessing step.\n",
    "\n",
    "For convenience, a self-contained script can be found [here](https://github.com/FAIR-Chem/fairchem/blob/main/src/fairchem/core/scripts/download_data.py) to download, preprocess, and organize the data directories to be readily usable by the existing [configs](https://github.com/FAIR-Chem/fairchem/tree/main/src/fairchem/core/configs).\n",
    "\n",
    "For IS2*, run the script as:\n"
   ]
  },
  {
   "cell_type": "markdown",
   "id": "a861396e",
   "metadata": {},
   "source": [
    "```\n",
    "python scripts/download_data.py --task is2re\n",
    "```\n"
   ]
  },
  {
   "cell_type": "markdown",
   "id": "d20ca645",
   "metadata": {},
   "source": [
    "For S2EF train/val, run the script as:\n"
   ]
  },
  {
   "cell_type": "markdown",
   "id": "94ac5d67",
   "metadata": {},
   "source": [
    "```\n",
    "python scripts/download_data.py --task s2ef --split SPLIT_SIZE --get-edges --num-workers WORKERS --ref-energy\n",
    "```\n",
    "\n",
    "\n"
   ]
  },
  {
   "cell_type": "markdown",
   "id": "44b82a51",
   "metadata": {},
   "source": [
    "* `--split`: split size to download: `\"200k\", \"2M\", \"20M\", \"all\", \"val_id\", \"val_ood_ads\", \"val_ood_cat\", or \"val_ood_both\"`.\n",
    "* `--get-edges`: includes edge information in LMDBs (~10x storage requirement, ~3-5x slowdown), otherwise, compute edges on the fly (larger GPU memory requirement).\n",
    "* `--num-workers`: number of workers to parallelize preprocessing across.\n",
    "* `--ref-energy`: uses referenced energies instead of raw energies.\n",
    "\n",
    "For S2EF test, run the script as:"
   ]
  },
  {
   "cell_type": "markdown",
   "id": "5cea5814",
   "metadata": {},
   "source": [
    "```\n",
    "python scripts/download_data.py --task s2ef --split test\n",
    "```\n"
   ]
  },
  {
   "cell_type": "markdown",
   "id": "5a24dc00",
   "metadata": {},
   "source": [
    "To download and process the dataset in a directory other than your local `fairchem/data` folder, add the following command line argument `--data-path`.\n",
    "\n",
    "Note that the baseline [configs](https://github.com/FAIR-Chem/fairchem/tree/main/src/fairchem/core/configs)\n",
    "expect the data to be found in `fairchem/data`, make sure you symlink your directory or\n",
    "modify the paths in the configs accordingly.\n",
    "\n",
    "The following sections list dataset download links and sizes for various S2EF\n",
    "and IS2RE/IS2RS task splits. If you used the above `download_data.py` script to\n",
    "download and preprocess the data, you are good to go and can stop reading here!"
   ]
  },
  {
   "cell_type": "markdown",
   "id": "72dffb65",
   "metadata": {},
   "source": [
    "## Structure to Energy and Forces (S2EF) task\n",
    "\n",
    "For this task’s train and validation sets, we provide compressed trajectory files with the input structures and output energies and forces.  We provide precomputed LMDBs for the test sets. To use the train and validation datasets, first download the files and uncompress them. The uncompressed files are used to generate LMDBs, which are in turn used by the dataloaders to train the ML models. Code for the dataloaders and generating the LMDBs may be found in the Github repository.\n",
    "\n",
    "Four training datasets are provided with different sizes. Each is a subset of the other, i.e., the 2M dataset is contained in the 20M and all datasets.\n",
    "\n",
    "Four datasets are provided for validation set. Each dataset corresponds to a subsplit used to evaluate different types of extrapolation, in domain (id, same distribution as the training dataset), out of domain adsorbate (ood_ads, unseen adsorbate), out of domain catalyst (ood_cat, unseen catalyst composition), and out of domain both (ood_both, unseen adsorbate and catalyst composition).\n",
    "\n",
    "For the test sets, we provide precomputed LMDBs for each of the 4 subsplits (In Domain, OOD Adsorbate, OOD Catalyst, OOD Both).\n",
    "\n",
    "Each tarball has a README file containing details about file formats, number of structures / trajectories, etc.\n",
    "\n",
    "|Splits |Size of compressed version (in bytes)  |Size of uncompressed version (in bytes)    | MD5 checksum (download link)   |\n",
    "|---    |---    |---    |---    |\n",
    "|Train  |   |   |   |   |\n",
    "|all    |225G   |1.1T   | [12a7087bfd189a06ccbec9bc7add2bcd](https://dl.fbaipublicfiles.com/opencatalystproject/data/s2ef_train_all.tar)   |\n",
    "|20M    |34G    |165G   | [863bc983245ffc0285305a1850e19cf7](https://dl.fbaipublicfiles.com/opencatalystproject/data/s2ef_train_20M.tar)   |\n",
    "|2M |3.4G   |17G    | [953474cb93f0b08cdc523399f03f7c36](https://dl.fbaipublicfiles.com/opencatalystproject/data/s2ef_train_2M.tar)   |\n",
    "|200K   |344M   |1.7G   | [f8d0909c2623a393148435dede7d3a46](https://dl.fbaipublicfiles.com/opencatalystproject/data/s2ef_train_200K.tar)   |\n",
    "|   |   |   |   |   |\n",
    "|Validation |   |   |   |   |\n",
    "|val_id |1.7G   |8.3G   | [f57f7f5c1302637940f2cc858e789410](https://dl.fbaipublicfiles.com/opencatalystproject/data/s2ef_val_id.tar)   |\n",
    "|val_ood_ads    |1.7G   |8.2G   | [431ab0d7557a4639605ba8b67793f053](https://dl.fbaipublicfiles.com/opencatalystproject/data/s2ef_val_ood_ads.tar)   |\n",
    "|val_ood_cat    |1.7G   |8.3G   | [532d6cd1fe541a0ddb0aa0f99962b7db](https://dl.fbaipublicfiles.com/opencatalystproject/data/s2ef_val_ood_cat.tar)   |\n",
    "|val_ood_both   |1.9G   |9.5G   | [5731862978d80502bbf7017d68c2c729](https://dl.fbaipublicfiles.com/opencatalystproject/data/s2ef_val_ood_both.tar)   |\n",
    "|   |   |   |   |   |\n",
    "|Test (LMDBs for all splits)    |30G    |415G   | [bcada432482f6e87b24e14b6b744992a](https://dl.fbaipublicfiles.com/opencatalystproject/data/s2ef_test_lmdbs.tar.gz)   |\n",
    "|   |   |   |   |   |\n",
    "|Rattled data   |29G    |136G   | [40431149b27b64ce1fb40cac4e2e064b](https://dl.fbaipublicfiles.com/opencatalystproject/data/s2ef_rattled.tar)   |\n",
    "|   |   |   |   |   |\n",
    "|MD data    |42G    |306G   | [9fed845aaab8fb4bf85e3a8db57796e0](https://dl.fbaipublicfiles.com/opencatalystproject/data/s2ef_md.tar)   |\n",
    "|   |   |   |   |\n",
    "\n"
   ]
  },
  {
   "cell_type": "markdown",
   "id": "2b8233cd",
   "metadata": {},
   "source": [
    "## Initial Structure to Relaxed Structure (IS2RS) and Initial Structure to Relaxed Energy (IS2RE) tasks\n",
    "\n",
    "For the IS2RS and IS2RE tasks, we are providing:\n"
   ]
  },
  {
   "cell_type": "markdown",
   "id": "68ad8867",
   "metadata": {},
   "source": [
    "* One `.tar.gz` file with precomputed LMDBs which once downloaded and uncompressed, can be used directly to train ML models. The LMDBs contain the input initial structures and the output relaxed structures and energies. Training datasets are split by size, with each being a subset of the larger splits, similar to S2EF. The validation and test datasets are broken into subsplits based on different extrapolation evaluations (In Domain, OOD Adsorbate, OOD Catalyst, OOD Both).\n",
    "* underlying ASE relaxation trajectories for the adsorbate+catalyst in the entire training and validation sets for the IS2RE and IS2RS tasks. These are **not** required to download for training ML models, but are available for interested users.\n",
    "\n",
    "Each tarball has README file containing details about file formats, number of structures / trajectories, etc.\n",
    "\n",
    "|Splits    |Size of compressed version (in bytes)    |Size of uncompressed version (in bytes)    | MD5 checksum (download link)    |\n",
    "|---    |---    |---    |---    |\n",
    "|Train (all splits) + Validation (all splits) + test (all splits)    |8.1G    |97G    | [cfc04dd2f87b4102ab2f607240d25fb1](https://dl.fbaipublicfiles.com/opencatalystproject/data/is2res_train_val_test_lmdbs.tar.gz)    |\n",
    "|Test-challenge 2021 ([challenge details](https://opencatalystproject.org/challenge.html)) |1.3G   |17G    | [aed414cdd240fbb5670b5de6887a138b](https://dl.fbaipublicfiles.com/opencatalystproject/data/is2re_test_challenge_2021.tar.gz)   |\n",
    "|    |    |    |    |\n",
    "\n",
    "\n",
    "\n"
   ]
  },
  {
   "cell_type": "markdown",
   "id": "87c4d92d",
   "metadata": {},
   "source": [
    "## Relaxation Trajectories\n",
    "\n",
    "### Adsorbate+catalyst system trajectories (optional download)\n",
    "\n",
    "|Split     |Size of compressed version (in bytes)    |Size of uncompressed version (in bytes)    | MD5 checksum (download link)    |\n",
    "|---    |---    |---    |---    |\n",
    "|All IS2RE/S training (~466k trajectories)    |109G    |841G    | [9e3ed4d1e497bfdce4472ee70455edef](https://dl.fbaipublicfiles.com/opencatalystproject/data/is2res_train_trajectories.tar)    |\n",
    "|    |    |    |    |\n",
    "|IS2RE/S Validation    |    |    |    |\n",
    "|val_id (~25K trajectories)    |5.9G    |46G    | [fcb71363018fb1e7127db2500e39e11a](https://dl.fbaipublicfiles.com/opencatalystproject/data/is2res_val_id_trajectories.tar)    |\n",
    "|val_ood_ads (~25K trajectories)    |5.7G    |44G    | [5ced8ea84584aa229d31e693e0fb090f](https://dl.fbaipublicfiles.com/opencatalystproject/data/is2res_val_ood_ads_trajectories.tar)    |\n",
    "|val_ood_cat (~25K trajectories)    |6.0G    |46G    | [88dcc02fd8c174a72d2c416878fc44ff](https://dl.fbaipublicfiles.com/opencatalystproject/data/is2res_val_ood_cat_trajectories.tar)    |\n",
    "|val_ood_both (~25K trajectories)    |4.4G    |35G    | [bc74b6474a13542cc56eaa97bd51adfc](https://dl.fbaipublicfiles.com/opencatalystproject/data/is2res_val_ood_both_trajectories.tar)    |\n"
   ]
  },
  {
   "cell_type": "markdown",
   "id": "00903d42",
   "metadata": {},
   "source": [
    "#### Per-adsorbate trajectories (optional download)\n",
    "\n",
    "Adsorbate+catalyst trajectories on a per adsorbate basis are provided [here](./DATASET_PER_ADSORBATE.md) to avoid having to download all systems. Note - a few adsorbates are intentionally left out for the test splits.\n"
   ]
  },
  {
   "cell_type": "markdown",
   "id": "0b5e33b8",
   "metadata": {},
   "source": [
    "### Catalyst system trajectories (optional download)\n",
    "\n",
    "|Number    |Size of compressed version (in bytes)    |Size of uncompressed version (in bytes)    |MD5 checksum (download link)    |\n",
    "|---    |---    |---    |---    |\n",
    "|294k systems    |20G    |151G    | [347f4183465810e9b384e7a033baefc7](https://dl.fbaipublicfiles.com/opencatalystproject/data/slab_trajectories.tar)    |"
   ]
  },
  {
   "cell_type": "markdown",
   "id": "1dca1a0e",
   "metadata": {},
   "source": [
    "## Bader charge data\n",
    "We provide Bader charge data for all final frames of our train + validation systems in OC20 (for both S2EF and IS2RE/RS tasks). A `.tar.gz` file, when downloaded and uncompressed will contain several directories with unique system-ids (of the format `random<XYZ>` where `XYZ` is an integer). Each directory will contain raw Bader charge analysis outputs. For more details on the Bader charge analysis, see https://theory.cm.utexas.edu/henkelman/research/bader/.\n",
    "\n",
    "Downloadable link: https://dl.fbaipublicfiles.com/opencatalystproject/data/oc20_bader_data.tar (MD5 checksum: `aecc5e23542de49beceb4b7e44c153b9`)\n",
    "\n",
    "## OC20 mappings\n",
    "\n",
    "### Data mapping information\n",
    "\n",
    "We provide a Python pickle file containing information about the slab and adsorbates for each of the systems in OC20 dataset. Loading the pickle file will load a Python dictionary. The keys of this dictionary are the adsorbate+catalyst system-ids (of the format `random<XYZ>`  where `XYZ` is an integer), and the corresponding value of each key is a dictionary with information about:\n"
   ]
  },
  {
   "cell_type": "markdown",
   "id": "cd08baf9",
   "metadata": {},
   "source": [
    "* `bulk_mpid` : Materials Project ID of the bulk system used corresponding the the catalyst surface\n",
    "* `bulk_symbols`  Chemical composition of the bulk counterpart\n",
    "* `ads_symbols`  Chemical composition of the adsorbate counterpart\n",
    "* `ads_id` : internal unique identifier, one for each of the 82 adsorbates used in the dataset\n",
    "* `bulk_id` : internal unique identifier one for each of the 11500 bulks used in the dataset\n",
    "* `miller_index`: 3-tuple of integers indicating the Miller indices of the surface\n",
    "* `shift`: c-direction shift used to determine cutoff for the surface (c-direction is following the nomenclature from Pymatgen)\n",
    "* `top`: boolean indicating whether the chosen surface was at the top or bottom of the originally enumerated surface\n",
    "* `adsorption_site`: A tuple of 3-tuples containing the Cartesian coordinates of each binding adsorbate atom\n",
    "* `class`: integer indicating the class of materials the system's slab is part of, where:\n",
    "* 0 - intermetallics\n",
    "* 1 - metalloids\n",
    "* 2 - non-metals\n",
    "* 3 - halides\n",
    "* `anomaly`: integer indicating possible anomalies (based off general heuristics, not to be taken as perfect classifications), where:\n",
    "* 0 - no anomaly\n",
    "* 1 - adsorbate dissociation\n",
    "* 2 - adsorbate desorption\n",
    "* 3 - surface reconstruction\n",
    "* 4 - incorrect CHCOH placement, appears to be CHCO with a lone, uninteracting, H far off in the unit cell\n",
    "\n",
    "Downloadable link: https://dl.fbaipublicfiles.com/opencatalystproject/data/oc20_data_mapping.pkl (MD5 checksum: `01c879067a05b4288055a1fdf821e068`)\n",
    "\n",
    "An example entry is\n"
   ]
  },
  {
   "cell_type": "markdown",
   "id": "38dbb41a",
   "metadata": {},
   "source": [
    "```\n",
    "'random2181546': {'bulk_id': 6510,\n",
    "  'ads_id': 69,\n",
    "  'bulk_mpid': 'mp-22179',\n",
    "  'bulk_symbols': 'Si2Ti2Y2',\n",
    "  'ads_symbols': '*N2',\n",
    "  'miller_index': (2, 0, 1),\n",
    "  'shift': 0.145,\n",
    "  'top': True,\n",
    "  'adsorption_site': ((4.5, 12.85, 16.13),),\n",
    "  'class': 1,\n",
    "  'anomaly': 0}\n",
    "```\n",
    "\n",
    "\n"
   ]
  },
  {
   "cell_type": "markdown",
   "id": "9ba17119",
   "metadata": {},
   "source": [
    "## Adsorbate-catalyst system to catalyst system mapping information\n",
    "\n",
    "We provide a Python pickle file containing information about the mapping from adsorbate-catalyst systems to their corresponding catalyst systems. Loading the pickle file will load a Python dictionary. The keys of this dictionary are the adsorbate+catalyst system-ids (of the format `random<XYZ>`  where `XYZ` is an integer), and values will be the catalyst system-ids (of the format `random<PQR>` where `PQR` is an integer).\n",
    "\n",
    "Downloadable link: https://dl.fbaipublicfiles.com/opencatalystproject/data/mapping_adslab_slab.pkl (MD5 checksum: `079041076c3f15d18ecb5d17c509cdfe`)\n",
    "\n",
    "An example entry is\n"
   ]
  },
  {
   "cell_type": "markdown",
   "id": "b4a232d9",
   "metadata": {},
   "source": [
    "```\n",
    "'random1981709': 'random533137'\n",
    "```\n",
    "\n",
    "\n"
   ]
  },
  {
   "cell_type": "markdown",
   "id": "f405deef",
   "metadata": {},
   "source": [
    "## Dataset changelog\n",
    "\n",
    "### September 2021\n",
    "\n",
    "* Released IS2RE `test-challenge` data for the [Open Catalyst Challenge 2021](https://opencatalystproject.org/challenge.html)\n",
    "\n",
    "### March 2021\n",
    "\n",
    "* Modified the pickle corresponding to data mapping information. Now the pickle includes extra information about `miller_index`, `shift`, `top` and `adsorption_site`.\n",
    "* Added Molecular Dynamics (MD) and rattled data for S2EF task.\n",
    "\n",
    "### Version 2, Feb 2021\n",
    "\n",
    "Modifications:\n"
   ]
  },
  {
   "cell_type": "markdown",
   "id": "8eacd749",
   "metadata": {},
   "source": [
    "* Removed slab systems which had single frame checkpoints, this led to modifications of reference frame energies of 350k frames out of 130M.\n",
    "* Fixed stitching of checkpoints in adsorbate+catalyst trajectories.\n",
    "* Added release of slab trajectories.\n",
    "\n",
    "Below are actual updates numbers, of the form `old` → `new`\n",
    "\n",
    "Total S2EF frames:\n"
   ]
  },
  {
   "cell_type": "markdown",
   "id": "2119482c",
   "metadata": {},
   "source": [
    "* train: 133953162 → 133934018\n",
    "* validation:\n",
    "    * val_id : 1000000 → 999866\n",
    "    * val_ood_ads: 1000000 → 999838\n",
    "    * val_ood_cat: 1000000 → 999809\n",
    "    * val_ood_both: 1000000 →  999944\n",
    "* test:\n",
    "    * test_id: 1000000 → 999736\n",
    "    * test_ood_ads: 1000000 → 999859\n",
    "    * test_ood_cat: 1000000 → 999826\n",
    "    * test_ood_both: 1000000 → 999973\n",
    "\n",
    "Total IS2RE and IS2RS systems:\n"
   ]
  },
  {
   "cell_type": "markdown",
   "id": "8fd7d7d1",
   "metadata": {},
   "source": [
    "* train: 461313 → 460328\n",
    "* validation:\n",
    "    * val_id : 24946 → 24943\n",
    "    * val_ood_ads: 24966 → 24961\n",
    "    * val_ood_cat: 24988 → 24963\n",
    "    * val_ood_both: 24963 → 24987\n",
    "* test:\n",
    "    * test_id: 24951 → 24948\n",
    "    * test_ood_ads: 24931 → 24930\n",
    "    * test_ood_cat: 24967 → 24965\n",
    "    * test_ood_both: 24986 → 24985\n",
    "\n",
    "### Version 1, Oct 2020\n",
    "\n",
    "Total S2EF frames:\n"
   ]
  },
  {
   "cell_type": "markdown",
   "id": "7790757a",
   "metadata": {},
   "source": [
    "* train: 133953162\n",
    "* validation:\n",
    "    * val_id : 1000000\n",
    "    * val_ood_ads: 1000000\n",
    "    * val_ood_cat: 1000000\n",
    "    * val_ood_both: 1000000\n",
    "* test:\n",
    "    * test_id: 1000000\n",
    "    * test_ood_ads: 1000000\n",
    "    * test_ood_cat: 1000000\n",
    "    * test_ood_both: 1000000\n",
    "\n",
    "Total IS2RE and IS2RS systems:\n"
   ]
  },
  {
   "cell_type": "markdown",
   "id": "a4e62631",
   "metadata": {},
   "source": [
    "* train: 461313\n",
    "* validation:\n",
    "    * val_id : 24936\n",
    "    * val_ood_ads: 24966\n",
    "    * val_ood_cat: 24988\n",
    "    * val_ood_both: 24963\n",
    "* test:\n",
    "    * test_id: 24951\n",
    "    * test_ood_ads: 24931\n",
    "    * test_ood_cat: 24967\n",
    "    * test_ood_both: 24986\n",
    "\n",
    "## Citing OC20\n",
    "\n",
    "The Open Catalyst 2020 (OC20) dataset is licensed under a [Creative Commons Attribution 4.0 License](https://creativecommons.org/licenses/by/4.0/legalcode).\n",
    "\n",
    "Please consider citing the following paper in any research manuscript using the OC20 dataset:\n"
   ]
  },
  {
   "cell_type": "markdown",
   "id": "4b8ec709",
   "metadata": {},
   "source": [
    "```bibtex\n",
    "@article{ocp_dataset,\n",
    "    author = {Chanussot*, Lowik and Das*, Abhishek and Goyal*, Siddharth and Lavril*, Thibaut and Shuaibi*, Muhammed and Riviere, Morgane and Tran, Kevin and Heras-Domingo, Javier and Ho, Caleb and Hu, Weihua and Palizhati, Aini and Sriram, Anuroop and Wood, Brandon and Yoon, Junwoong and Parikh, Devi and Zitnick, C. Lawrence and Ulissi, Zachary},\n",
    "    title = {Open Catalyst 2020 (OC20) Dataset and Community Challenges},\n",
    "    journal = {ACS Catalysis},\n",
    "    year = {2021},\n",
    "    doi = {10.1021/acscatal.0c04525},\n",
    "}\n",
    "```"
   ]
  },
  {
   "cell_type": "markdown",
   "id": "d69d9c8d",
   "metadata": {},
   "source": [
    "# Per-adsorbate trajectories\n",
    "\n",
    "|Adsorbate symbol\t|Size\t|MD5 checksum (download link)\t|\n",
    "|---\t|---\t|---\t|\n",
    "|*O\t|1006M\t|[d4151542856b4b6405f276808f75358a](https://dl.fbaipublicfiles.com/opencatalystproject/data/per_adsorbate_is2res/0.tar) |\n",
    "|*H |850M\t|[3697f04faf04251a23da8b88a78209f7](https://dl.fbaipublicfiles.com/opencatalystproject/data/per_adsorbate_is2res/1.tar)\t|\n",
    "|*OH\t|1.6G\t|[a21081f3f55eb0c98a91021bbe3dac44](https://dl.fbaipublicfiles.com/opencatalystproject/data/per_adsorbate_is2res/2.tar)\t|\n",
    "|*OH2\t|1.8G\t|[b12b706854f5d899e02a9ae6578b5d45](https://dl.fbaipublicfiles.com/opencatalystproject/data/per_adsorbate_is2res/3.tar)\t|\n",
    "|*C\t|1.1G\t|[e4fe9890764fcf59e01e3ceab089b978](https://dl.fbaipublicfiles.com/opencatalystproject/data/per_adsorbate_is2res/4.tar)\t|\n",
    "|*CH\t|1.4G\t|[ec9aa2c4c4bd4419359438ba7fbb881d](https://dl.fbaipublicfiles.com/opencatalystproject/data/per_adsorbate_is2res/6.tar)\t|\n",
    "|*CHO\t|1.4G\t|[d32200f74ad5c3bfd42e8835f36d57ab](https://dl.fbaipublicfiles.com/opencatalystproject/data/per_adsorbate_is2res/7.tar)\t|\n",
    "|*COH\t|1.6G\t|[5418a1b331f6c7689a5405cca4cc8d15](https://dl.fbaipublicfiles.com/opencatalystproject/data/per_adsorbate_is2res/8.tar)\t|\n",
    "|*CH2\t|1.6G\t|[8ee1066149c305d7c17c219b369c5a73](https://dl.fbaipublicfiles.com/opencatalystproject/data/per_adsorbate_is2res/9.tar)\t|\n",
    "|*CH2*O\t|1.7G\t|[960c2450814024b66f3c79121179ac60](https://dl.fbaipublicfiles.com/opencatalystproject/data/per_adsorbate_is2res/10.tar)\t|\n",
    "|*CHOH\t|1.8G\t|[60ac9f965f9589a3389483e3d1e58144](https://dl.fbaipublicfiles.com/opencatalystproject/data/per_adsorbate_is2res/11.tar)\t|\n",
    "|*CH3\t|1.7G\t|[7e123e6f4fb10d6897be3f47721dfd4a](https://dl.fbaipublicfiles.com/opencatalystproject/data/per_adsorbate_is2res/12.tar)\t|\n",
    "|*OCH3\t|1.8G\t|[0823047bbbe05fa0e63f9d83ec601487](https://dl.fbaipublicfiles.com/opencatalystproject/data/per_adsorbate_is2res/13.tar)\t|\n",
    "|*CH2OH\t|1.9G\t|[9ac71e198d75b1427182cd34abb73e4d](https://dl.fbaipublicfiles.com/opencatalystproject/data/per_adsorbate_is2res/14.tar)\t|\n",
    "|*CH4\t|1.9G\t|[a405ce403018bf8afbd4425d5c0b34d5](https://dl.fbaipublicfiles.com/opencatalystproject/data/per_adsorbate_is2res/15.tar)\t|\n",
    "|*OHCH3\t|2.1G\t|[d3c829f1952db6e4f428273ee05f59b1](https://dl.fbaipublicfiles.com/opencatalystproject/data/per_adsorbate_is2res/16.tar)\t|\n",
    "|*C*C\t|1.5G\t|[d687a151345305897b9245af4b0f9967](https://dl.fbaipublicfiles.com/opencatalystproject/data/per_adsorbate_is2res/17.tar)\t|\n",
    "|*CCO\t|1.7G\t|[214ca96e620c5ec6e8a6ff8144a22a04](https://dl.fbaipublicfiles.com/opencatalystproject/data/per_adsorbate_is2res/18.tar)\t|\n",
    "|*CCH\t|1.6G\t|[da2268545e80ca1664026449dd2fdd24](https://dl.fbaipublicfiles.com/opencatalystproject/data/per_adsorbate_is2res/19.tar)\t|\n",
    "|*CHCO\t|1.7G\t|[386c99407fe63080d26cda525dfdd8cd](https://dl.fbaipublicfiles.com/opencatalystproject/data/per_adsorbate_is2res/20.tar)\t|\n",
    "|*CCHO\t|1.8G\t|[918b20960438494ab160a9dbd9668157](https://dl.fbaipublicfiles.com/opencatalystproject/data/per_adsorbate_is2res/21.tar)\t|\n",
    "|*COCHO\t|1.8G\t|[84424aa2ad30301e23ece1438ea39923](https://dl.fbaipublicfiles.com/opencatalystproject/data/per_adsorbate_is2res/22.tar)\t|\n",
    "|*CCHOH\t|2.0G\t|[3cc90425ec042a70085ba7eb2916a79a](https://dl.fbaipublicfiles.com/opencatalystproject/data/per_adsorbate_is2res/23.tar)\t|\n",
    "|*CCH2\t|1.8G\t|[9dbcf7566e40965dd7f8a186a75a718e](https://dl.fbaipublicfiles.com/opencatalystproject/data/per_adsorbate_is2res/24.tar)\t|\n",
    "|*CH*CH\t|1.7G\t|[a193b4c72f915ba0b21a41790696b23c](https://dl.fbaipublicfiles.com/opencatalystproject/data/per_adsorbate_is2res/25.tar)\t|\n",
    "|CH2*CO\t|1.8G\t|[de83cf50247f5556fa4f9f64beff1eeb](https://dl.fbaipublicfiles.com/opencatalystproject/data/per_adsorbate_is2res/26.tar)\t|\n",
    "|*CHCHO\t|1.9G\t|[1d140aaa2e7b287124ab38911a711d70](https://dl.fbaipublicfiles.com/opencatalystproject/data/per_adsorbate_is2res/27.tar)\t|\n",
    "|*CH*COH\t|1.3G\t|[682d8a6b05ca5948b34dc5e5f6bbcd61](https://dl.fbaipublicfiles.com/opencatalystproject/data/per_adsorbate_is2res/28.tar)\t|\n",
    "|*COCH2O\t|1.9G\t|[c8742faa8ca40e8edb4110069817fa70](https://dl.fbaipublicfiles.com/opencatalystproject/data/per_adsorbate_is2res/29.tar)\t|\n",
    "|*CHO*CHO\t|2.0G\t|[8cfbb67beb312b98c40fcb891dfa480a](https://dl.fbaipublicfiles.com/opencatalystproject/data/per_adsorbate_is2res/30.tar)\t|\n",
    "|*COHCHO\t|1.9G\t|[6ffa903a62d8ec3319ecec6a03b06276](https://dl.fbaipublicfiles.com/opencatalystproject/data/per_adsorbate_is2res/31.tar)\t|\n",
    "|*COHCOH\t|2.0G\t|[caca0058b641bfdc9f8de4527e60feb7](https://dl.fbaipublicfiles.com/opencatalystproject/data/per_adsorbate_is2res/32.tar)\t|\n",
    "|*CCH3\t|1.8G\t|[906543aaefc171edab388ff4f0fe8a20](https://dl.fbaipublicfiles.com/opencatalystproject/data/per_adsorbate_is2res/33.tar)\t|\n",
    "|*CHCH2\t|1.8G\t|[4dfab479495f76179749c1956046fbd8](https://dl.fbaipublicfiles.com/opencatalystproject/data/per_adsorbate_is2res/34.tar)\t|\n",
    "|*COCH3\t|1.9G\t|[29d1b992715054e920e8bb2afe97b393](https://dl.fbaipublicfiles.com/opencatalystproject/data/per_adsorbate_is2res/35.tar)\t|\n",
    "|*CHCHOH\t|2.0G\t|[9e5912df6f7b11706d1046cdb9e3087e](https://dl.fbaipublicfiles.com/opencatalystproject/data/per_adsorbate_is2res/38.tar)\t|\n",
    "|*CCH2OH\t|2.1G\t|[7bcae43cee451306e34ec416588a7f09](https://dl.fbaipublicfiles.com/opencatalystproject/data/per_adsorbate_is2res/38.tar)\t|\n",
    "|*CHOCHOH\t|2.0G\t|[f98866d08fe3451ae7ebc47bb51599aa](https://dl.fbaipublicfiles.com/opencatalystproject/data/per_adsorbate_is2res/40.tar)\t|\n",
    "|*COCH2OH\t|1.4G\t|[bfaf689e5827fcf26c51e567bb8dd1be](https://dl.fbaipublicfiles.com/opencatalystproject/data/per_adsorbate_is2res/41.tar)\t|\n",
    "|*COHCHOH\t|2.0G\t|[236fe4e950aa2fbdde94ef2821fb48d2](https://dl.fbaipublicfiles.com/opencatalystproject/data/per_adsorbate_is2res/42.tar)\t|\n",
    "|*OCHCH3\t|2.1G\t|[66acc5460a999625c3364f0f3bcca871](https://dl.fbaipublicfiles.com/opencatalystproject/data/per_adsorbate_is2res/44.tar)\t|\n",
    "|*COHCH3\t|2.1G\t|[bb4a01956736399c8cee5e219f8c1229](https://dl.fbaipublicfiles.com/opencatalystproject/data/per_adsorbate_is2res/45.tar)\t|\n",
    "|*CHOHCH2\t|2.1G\t|[e836de4ec146b1b611533f1ef682cace](https://dl.fbaipublicfiles.com/opencatalystproject/data/per_adsorbate_is2res/46.tar)\t|\n",
    "|*CHCH2OH\t|2.0G\t|[66df44121806debef6dc038df7115d1d](https://dl.fbaipublicfiles.com/opencatalystproject/data/per_adsorbate_is2res/47.tar)\t|\n",
    "|*OCH2CHOH\t|2.2G\t|[ff6981fdbcd2e65d351505c15d218d76](https://dl.fbaipublicfiles.com/opencatalystproject/data/per_adsorbate_is2res/48.tar)\t|\n",
    "|*CHOCH2OH\t|2.1G\t|[448f7d352ab6e32f754e24de64ca302a](https://dl.fbaipublicfiles.com/opencatalystproject/data/per_adsorbate_is2res/49.tar)\t|\n",
    "|*COHCH2OH\t|2.1G\t|[8bff6bf3e10cc84acc4a283a375fcc23](https://dl.fbaipublicfiles.com/opencatalystproject/data/per_adsorbate_is2res/50.tar)\t|\n",
    "|*CHOHCHOH\t|2.0G\t|[9c9e4d617d306751760a80f1453e71f1](https://dl.fbaipublicfiles.com/opencatalystproject/data/per_adsorbate_is2res/51.tar)\t|\n",
    "|*CH2CH3\t|2.0G\t|[ec1e964d2ee6f468fa5773743e3994a4](https://dl.fbaipublicfiles.com/opencatalystproject/data/per_adsorbate_is2res/52.tar)\t|\n",
    "|*OCH2CH3\t|2.1G\t|[d297b27b02822f9b6af80bdb64aee819](https://dl.fbaipublicfiles.com/opencatalystproject/data/per_adsorbate_is2res/53.tar)\t|\n",
    "|*CHOHCH3\t|2.1G\t|[368de083dafdc3bbdb560d35e2a102c0](https://dl.fbaipublicfiles.com/opencatalystproject/data/per_adsorbate_is2res/54.tar)\t|\n",
    "|*CH2CH2OH\t|2.1G\t|[3c1aaf790659f7ff89bf1eed8b396b63](https://dl.fbaipublicfiles.com/opencatalystproject/data/per_adsorbate_is2res/55.tar)\t|\n",
    "|*CHOHCH2OH\t|2.2G\t|[2d71adb9e305e6f3bca49e5df9b5a86a](https://dl.fbaipublicfiles.com/opencatalystproject/data/per_adsorbate_is2res/56.tar)\t|\n",
    "|*OHCH2CH3\t|2.3G\t|[cf51128f8522b7b66fc68d79980d6def](https://dl.fbaipublicfiles.com/opencatalystproject/data/per_adsorbate_is2res/57.tar)\t|\n",
    "|*NH2N(CH3)2\t|1.6G\t|[36ba974d80c20ff636431f7c0ad225da](https://dl.fbaipublicfiles.com/opencatalystproject/data/per_adsorbate_is2res/58.tar)\t|\n",
    "|*ONN(CH3)2\t|2.3G\t|[fdc4cd19977496909d61be4aee61c4f1](https://dl.fbaipublicfiles.com/opencatalystproject/data/per_adsorbate_is2res/59.tar)\t|\n",
    "|*OHNNCH3\t|2.1G\t|[50a6ff098f9ba7adbba9ac115726cc5a](https://dl.fbaipublicfiles.com/opencatalystproject/data/per_adsorbate_is2res/60.tar)\t|\n",
    "|*ONH\t|1.8G\t|[47573199c545afe46c554ff756c3e38f](https://dl.fbaipublicfiles.com/opencatalystproject/data/per_adsorbate_is2res/62.tar)\t|\n",
    "|*NHNH\t|1.7G\t|[dd456b7e19ef592d9f0308d911b91d7c](https://dl.fbaipublicfiles.com/opencatalystproject/data/per_adsorbate_is2res/63.tar)\t|\n",
    "|*N*NH\t|1.6G\t|[c05289fd56d64c74306ebf57f1061318](https://dl.fbaipublicfiles.com/opencatalystproject/data/per_adsorbate_is2res/65.tar)\t|\n",
    "|*NO2NO2\t|2.1G\t|[4822a06f6c5f41bdefd3cbbd8856c11f](https://dl.fbaipublicfiles.com/opencatalystproject/data/per_adsorbate_is2res/67.tar)\t|\n",
    "|*N*NO\t|1.6G\t|[2a27de122d32917cc5b6ac0a21c63c1c](https://dl.fbaipublicfiles.com/opencatalystproject/data/per_adsorbate_is2res/68.tar)\t|\n",
    "|*N2\t|1.5G\t|[cc668fecf679b6edaac8fd8fb9cdd404](https://dl.fbaipublicfiles.com/opencatalystproject/data/per_adsorbate_is2res/69.tar)\t|\n",
    "|*ONNH2\t|2.1G\t|[dff880f1a5baa7f67b52fd3ed745443d](https://dl.fbaipublicfiles.com/opencatalystproject/data/per_adsorbate_is2res/70.tar)\t|\n",
    "|*NH2\t|1.6G\t|[c7f383b50faa6244e265c9611466cb8f](https://dl.fbaipublicfiles.com/opencatalystproject/data/per_adsorbate_is2res/71.tar)\t|\n",
    "|*NH3\t|1.9G\t|[2b355741f9300445703270e0e4b8c01c](https://dl.fbaipublicfiles.com/opencatalystproject/data/per_adsorbate_is2res/72.tar)\t|\n",
    "|*NONH\t|1.8G\t|[48877a0c6f2994baac82cb722711aaa2](https://dl.fbaipublicfiles.com/opencatalystproject/data/per_adsorbate_is2res/73.tar)\t|\n",
    "|*NH\t|1.4G\t|[7979b9e7ab557d6979b33e352486f0ef](https://dl.fbaipublicfiles.com/opencatalystproject/data/per_adsorbate_is2res/74.tar)\t|\n",
    "|*NO2\t|1.7G\t|[9f352fbc32bb2b8caf4788aba28b2eb7](https://dl.fbaipublicfiles.com/opencatalystproject/data/per_adsorbate_is2res/75.tar)\t|\n",
    "|*NO\t|1.4G\t|[482ee306a5ae2eee78cac40d10059ebc](https://dl.fbaipublicfiles.com/opencatalystproject/data/per_adsorbate_is2res/76.tar)\t|\n",
    "|*N\t|1.1G\t|[bfb6e03d4a687987ff68976f0793cc46](https://dl.fbaipublicfiles.com/opencatalystproject/data/per_adsorbate_is2res/77.tar)\t|\n",
    "|*NO3\t|1.8G\t|[700834326e789a6e38bf3922d9fcb792](https://dl.fbaipublicfiles.com/opencatalystproject/data/per_adsorbate_is2res/78.tar)\t|\n",
    "|*OHNH2\t|2.1G\t|[fa24472e0c02c34d91f3ffe6b77bfb11](https://dl.fbaipublicfiles.com/opencatalystproject/data/per_adsorbate_is2res/79.tar)\t|\n",
    "|*ONOH\t|1.4G\t|[4ddcccd62a834a76fe6167461f512529](https://dl.fbaipublicfiles.com/opencatalystproject/data/per_adsorbate_is2res/80.tar)\t|\n",
    "|*CN\t|1.5G\t|[bc7c55330ece006d09496a5ff01d5d50](https://dl.fbaipublicfiles.com/opencatalystproject/data/per_adsorbate_is2res/81.tar)\t|\n",
    "\n",
    "Note - A few adsorbates are intentionally left out for the test splits.\n",
    "\n",
    "Downloading any of the above and extracting will result in a folder:\n",
    "\n",
    "`<index>/`\n",
    "\n",
    "* `system.txt` Text file containing information about the different adsorbate+catalyst system names. In total there are N systems. More details described below.\n",
    "* `<index>/`\n",
    "    * This contains N compressed trajectory files of the format `.extxyz.xz`.\n",
    "    * Files are named as  `<system_id>.extxyz.xz` (where `system_id` is defined below)."
   ]
  },
  {
   "cell_type": "markdown",
   "id": "50b608c0",
   "metadata": {},
   "source": [
    "where, `<index>` can be 0 to 81. N is dependent on which adsorbate index is chosen.\n"
   ]
  },
  {
   "cell_type": "markdown",
   "id": "ca037641",
   "metadata": {},
   "source": [
    "The file  `system.txt`  has information in the following format:\n",
    "`system_id,reference_energy`\n",
    "\n",
    "where:\n",
    "\n",
    "* `system_id `- Internal random ID corresponding to an adsorbate+catalyst system.\n",
    "* `reference_energy` - Energy used to reference system energies to bare catalyst+gas reference energies. Used for adsorption energy calculations."
   ]
  },
  {
   "cell_type": "markdown",
   "id": "6f84b0f0",
   "metadata": {},
   "source": [
    "The `.extxyz.xz` files are LZMA compressed `.extxyz` trajectory files. Each trajectory corresponds to a relaxation trajectory of a different adsorbate+catalyst system. Information about the `.extxyz` trajectory file format may be found at https://wiki.fysik.dtu.dk/ase/ase/io/formatoptions.html#extxyz.\n",
    "\n",
    "In order to uncompress the files, `uncompress.py` provides a multi-core implementation which could be used."
   ]
  }
 ],
 "metadata": {
  "jupytext": {
   "cell_metadata_filter": "-all",
   "main_language": "python",
   "notebook_metadata_filter": "-all"
  }
 },
 "nbformat": 4,
 "nbformat_minor": 5
}
