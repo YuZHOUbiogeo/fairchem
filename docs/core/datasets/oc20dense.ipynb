{
 "cells": [
  {
   "cell_type": "markdown",
   "id": "c6e88bf5",
   "metadata": {},
   "source": [
    "\n",
    "# Open Catalyst 2020 Dense (OC20Dense)\n",
    "\n",
    "## Overview\n",
    "The OC20Dense dataset is a validation dataset which was used to assess model performance in [AdsorbML: A Leap in Efficiency for Adsorption Energy Calculations using Generalizable Machine Learning Potentials](https://arxiv.org/abs/2211.16486). OC20-Dense contains a dense sampling of adsorbate configurations on ~1,000 randomly selected adsorbate+surface materials from the [OC20](https://arxiv.org/abs/2010.09990) dataset. It comprises a total of 85,658 unique input configurations. This dataset, and the paper written for it, supports the determination of global minimum adsorbate-surface energies (the adsorption energy). This differs from OC20, which contains local adsorbate relaxations. Under low coverage conditions, the global minimum energy site is the most likely to be occupied. For computational catalysis research, we correlate the adsorption energy with important figures of merit, so aquisition of it is an important task.\n",
    "\n",
    "## File Contents and Download\n",
    "|Splits |Size of compressed version (in bytes)  |Size of uncompressed version (in bytes)    | MD5 checksum (download link)   |\n",
    "|---    |---    |---    |---    |\n",
    "|LMDB    |654M   |9.8G   | [0163b0e8c4df6d9c426b875a28d9178a](https://dl.fbaipublicfiles.com/opencatalystproject/data/adsorbml/oc20_dense_data.tar.gz)   |\n",
    "|ASE Trajectories    |29G    |112G   | [ee937e5290f8f720c914dc9a56e0281f](https://dl.fbaipublicfiles.com/opencatalystproject/data/adsorbml/oc20_dense_trajectories.tar.gz)   |\n",
    "\n",
    "The following files are also provided to be used for evaluation and general information:\n",
    "* `oc20dense_mapping.pkl` : Mapping of the LMDB `sid` to general metadata information -\n",
    "  * `system_id`: Unique system identifier for an adsorbate, bulk, surface combination.\n",
    "  * `config_id`: Unique configuration identifier, where `rand` and `heur` correspond to random and heuristic initial configurations, respectively.\n",
    "  * `mpid`: Materials Project bulk identifier.\n",
    "  * `miller_idx`: 3-tuple of integers indicating the Miller indices of the surface.\n",
    "  * `shift`: C-direction shift used to determine cutoff for the surface (c-direction is following the nomenclature from Pymatgen).\n",
    "  * `top`: Boolean indicating whether the chosen surface was at the top or bottom of the originally enumerated surface.\n",
    "  * `adsorbate`: Chemical composition of the adsorbate.\n",
    "  * `adsorption_site`: A tuple of 3-tuples containing the Cartesian coordinates of each binding adsorbate atom\n",
    "* `oc20dense_targets.pkl` :  DFT adsorption energies across different system and placement ids.\n",
    "* `oc20dense_compute.pkl` :  DFT compute as measured in the number of ionic and scf steps for each evaluated relaxation.\n",
    "* `oc20dense_ref_energies.pkl` : Reference energy used for a specified `system_id`. This energy includes the relaxed clean surface and the gas phase adsorbate energy to ensure consistency across calculations.\n",
    "* `oc20dense_tags.pkl` : Tag information used for a specified `system_id`. Where 0 = subsurface, 1 = surface, 2 = adsorbate.\n",
    "\n",
    "All mappings can be obtained at the following downloadable link: https://dl.fbaipublicfiles.com/opencatalystproject/data/adsorbml/oc20_dense_mappings.tar.gz\n",
    "\n",
    "MD5 checksums:\n",
    "```\n",
    "c18735c405ce6ce5761432b07287d8d9  oc20_dense_mappings.tar.gz\n",
    "3e26c3bcef01ccfc9b001931065ea6e6  oc20dense_mapping.pkl\n",
    "fd589b013b72e62e11a6b2a5bd1d323c  oc20dense_targets.pkl\n",
    "78d25997e0aaf754df526ab37276bb89  oc20dense_compute.pkl\n",
    "b07c64158e4bfa5f7b9bf6263753ecc5  oc20dense_ref_energies.pkl\n",
    "1ba0bc266130f186850f5faa547b6a02  oc20dense_tags.pkl\n",
    "```"
   ]
  }
 ],
 "metadata": {
  "jupytext": {
   "cell_metadata_filter": "-all",
   "main_language": "python",
   "notebook_metadata_filter": "-all"
  }
 },
 "nbformat": 4,
 "nbformat_minor": 5
}
