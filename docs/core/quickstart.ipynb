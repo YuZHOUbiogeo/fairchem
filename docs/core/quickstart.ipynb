{
 "cells": [
  {
   "cell_type": "markdown",
   "id": "e7973211",
   "metadata": {},
   "source": [
    "Using pre-trained models in ASE\n",
    "----------\n",
    "\n",
    "1. First, install `fairchem` in a fresh python environment using one of the approaches in [installation documentation](install).\n",
    "2. See what pre-trained potentials are available"
   ]
  },
  {
   "cell_type": "code",
   "execution_count": null,
   "id": "ae0f57a6",
   "metadata": {},
   "outputs": [],
   "source": [
    "from fairchem.core.models.model_registry import available_pretrained_models\n",
    "print(available_pretrained_models)"
   ]
  },
  {
   "cell_type": "markdown",
   "id": "720ec5af",
   "metadata": {},
   "source": [
    "3. Choose a checkpoint you want to use and download it automatically! We'll use the GemNet-OC potential, trained on both the OC20 and OC22 datasets."
   ]
  },
  {
   "cell_type": "code",
   "execution_count": null,
   "id": "0fe097c2",
   "metadata": {},
   "outputs": [],
   "source": [
    "from fairchem.core.models.model_registry import model_name_to_local_file\n",
    "checkpoint_path = model_name_to_local_file('GemNet-OC-S2EFS-OC20+OC22', local_cache='/tmp/ocp_checkpoints/')\n",
    "checkpoint_path"
   ]
  },
  {
   "cell_type": "markdown",
   "id": "b7c820da",
   "metadata": {},
   "source": [
    "4. Finally, use this checkpoint in an ASE calculator for a simple relaxation!"
   ]
  },
  {
   "cell_type": "code",
   "execution_count": null,
   "id": "a90346de",
   "metadata": {},
   "outputs": [],
   "source": [
    "from fairchem.core.common.relaxation.ase_utils import OCPCalculator\n",
    "from ase.build import fcc111, add_adsorbate\n",
    "from ase.optimize import BFGS\n",
    "import matplotlib.pyplot as plt\n",
    "from ase.visualize.plot import plot_atoms\n",
    "\n",
    "# Define the model atomic system, a Pt(111) slab with an *O adsorbate!\n",
    "slab = fcc111('Pt', size=(2, 2, 5), vacuum=10.0)\n",
    "add_adsorbate(slab, 'O', height=1.2, position='fcc')\n",
    "\n",
    "# Load the pre-trained checkpoint!\n",
    "calc = OCPCalculator(checkpoint_path=checkpoint_path, cpu=False)\n",
    "slab.set_calculator(calc)\n",
    "\n",
    "# Run the optimization!\n",
    "opt = BFGS(slab)\n",
    "opt.run(fmax=0.05, steps=100)\n",
    "\n",
    "# Visualize the result!\n",
    "fig, axs = plt.subplots(1, 2)\n",
    "plot_atoms(slab, axs[0]);\n",
    "plot_atoms(slab, axs[1], rotation=('-90x'))\n",
    "axs[0].set_axis_off()\n",
    "axs[1].set_axis_off()"
   ]
  },
  {
   "cell_type": "markdown",
   "id": "c7ad2c23",
   "metadata": {},
   "source": [
    "To learn more about what this simulation means and how it fits into catalysis, see the [catalysis tutorial](../tutorials/intro)!"
   ]
  }
 ],
 "metadata": {
  "kernelspec": {
   "display_name": "Python 3 (ipykernel)",
   "language": "python",
   "name": "python3"
  }
 },
 "nbformat": 4,
 "nbformat_minor": 5
}
