{
 "cells": [
  {
   "cell_type": "markdown",
   "id": "2f32664b",
   "metadata": {},
   "source": [
    "Common gotchas with fairchem\n",
    "---------------------------------\n",
    "\n",
    "# OutOfMemoryError\n",
    "\n",
    "If you see errors like:\n",
    "\n",
    "```\n",
    "torch.cuda.OutOfMemoryError: CUDA out of memory. Tried to allocate 390.00 MiB (GPU 0; 10.76 GiB total capacity; 9.59 GiB already allocated; 170.06 MiB free; 9.81 GiB reserved in total by PyTorch) If reserved memory is >> allocated memory try setting max_split_size_mb to avoid fragmentation.  See documentation for Memory Management and PYTORCH_CUDA_ALLOC_CONF\n",
    "```\n",
    "\n",
    "It means your GPU is out of memory. Some reasons could be that you have multiple notebooks open that are using the GPU, e.g. they have loaded a calculator or something. Try closing all the other notebooks.\n",
    "\n",
    "It could also mean the batch size is too large to fit in memory. You can try making it smaller in the yml config file (optim.batch_size).\n",
    "\n",
    "It is recommended you use automatic mixed precision, --amp, in the options to main.py, or in the config.yml.\n",
    "\n",
    "If it is an option, you can try a GPU with more memory, or you may be able to split the job over multiple GPUs."
   ]
  },
  {
   "cell_type": "markdown",
   "id": "eb532dd0",
   "metadata": {},
   "source": [
    "# I want the energy of a gas phase atom\n",
    "\n",
    "But I get an error like\n",
    "\n",
    "```\n",
    "RuntimeError: cannot reshape tensor of 0 elements into shape [0, -1] because the unspecified dimension size -1 can be any value and is ambiguous\n",
    "```\n",
    "\n",
    "The problem here is that no neighbors are found for the single atom which causes an error. This may be model dependent. There is currently no way to get atomic energies for some models."
   ]
  },
  {
   "cell_type": "code",
   "execution_count": null,
   "id": "616497dd",
   "metadata": {},
   "outputs": [],
   "source": [
    "from fairchem.core.common.relaxation.ase_utils import OCPCalculator\n",
    "from fairchem.core.models.model_registry import model_name_to_local_file\n",
    "checkpoint_path = model_name_to_local_file('GemNet-OC-S2EFS-OC20+OC22', local_cache='/tmp/ocp_checkpoints/')\n",
    "calc = OCPCalculator(checkpoint_path=checkpoint_path)"
   ]
  },
  {
   "cell_type": "code",
   "execution_count": null,
   "id": "6c54b47e",
   "metadata": {},
   "outputs": [],
   "source": [
    "%%capture\n",
    "from ase.build import bulk\n",
    "atoms = bulk('Cu', a=10)\n",
    "atoms.set_calculator(calc)\n",
    "atoms.get_potential_energy()"
   ]
  },
  {
   "cell_type": "markdown",
   "id": "562bc5ec",
   "metadata": {},
   "source": [
    "# I get wildly different energies from the different models\n",
    "\n",
    "Some models are trained on adsorption energies, and some are trained on total energies. You have to know which one you are using.\n",
    "\n",
    "Sometimes you can tell by the magnitude of energies, but you should use care with this. If energies are \"small\" and near zero they are likely adsorption energies. If energies are \"large\" in magnitude they are probably total energies. This can be misleading though, as it depends on the total number of atoms in the systems."
   ]
  },
  {
   "cell_type": "code",
   "execution_count": null,
   "id": "99e6fcf4",
   "metadata": {},
   "outputs": [],
   "source": [
    "# These are to suppress the output from making the calculators.\n",
    "from io import StringIO\n",
    "import contextlib"
   ]
  },
  {
   "cell_type": "code",
   "execution_count": null,
   "id": "e34a4e65",
   "metadata": {},
   "outputs": [],
   "source": [
    "from ase.build import fcc111, add_adsorbate\n",
    "slab = fcc111('Pt', size=(2, 2, 5), vacuum=10.0)\n",
    "add_adsorbate(slab, 'O', height=1.2, position='fcc')"
   ]
  },
  {
   "cell_type": "code",
   "execution_count": null,
   "id": "3394663f",
   "metadata": {},
   "outputs": [],
   "source": [
    "from fairchem.core.models.model_registry import model_name_to_local_file\n",
    "\n",
    "# OC20 model - trained on adsorption energies\n",
    "checkpoint_path = model_name_to_local_file('GemNet-OC-S2EF-OC20-All', local_cache='/tmp/ocp_checkpoints/')\n",
    "\n",
    "with contextlib.redirect_stdout(StringIO()) as _:\n",
    "    calc = OCPCalculator(checkpoint_path=checkpoint_path, cpu=False)\n",
    "\n",
    "\n",
    "\n",
    "slab.set_calculator(calc)\n",
    "slab.get_potential_energy()"
   ]
  },
  {
   "cell_type": "code",
   "execution_count": null,
   "id": "d3eacf23",
   "metadata": {},
   "outputs": [],
   "source": [
    "# An OC22 checkpoint - trained on total energy\n",
    "checkpoint_path = model_name_to_local_file('GemNet-OC-S2EFS-OC20+OC22', local_cache='/tmp/ocp_checkpoints/')\n",
    "\n",
    "with contextlib.redirect_stdout(StringIO()) as _:\n",
    "    calc = OCPCalculator(checkpoint_path=checkpoint_path, cpu=False)\n",
    "\n",
    "\n",
    "\n",
    "slab.set_calculator(calc)\n",
    "slab.get_potential_energy()"
   ]
  },
  {
   "cell_type": "code",
   "execution_count": null,
   "id": "2f94e317",
   "metadata": {},
   "outputs": [],
   "source": [
    "# This eSCN model is trained on adsorption energies\n",
    "checkpoint_path = model_name_to_local_file('eSCN-L4-M2-Lay12-S2EF-OC20-2M', local_cache='/tmp/ocp_checkpoints/')\n",
    "\n",
    "with contextlib.redirect_stdout(StringIO()) as _:\n",
    "    calc = OCPCalculator(checkpoint_path=checkpoint_path, cpu=False)\n",
    "\n",
    "slab.set_calculator(calc)\n",
    "slab.get_potential_energy()"
   ]
  },
  {
   "cell_type": "markdown",
   "id": "e5cbc0a2",
   "metadata": {},
   "source": [
    "# Miscellaneous warnings\n",
    "\n",
    "In general, warnings are not errors.\n",
    "\n",
    "## Unrecognized arguments\n",
    "\n",
    "With Gemnet models you might see warnings like:\n",
    "\n",
    "```\n",
    "WARNING:root:Unrecognized arguments: ['symmetric_edge_symmetrization']\n",
    "```\n",
    "\n",
    "You can ignore this warning, it is not important for predictions.\n",
    "\n",
    "## Unable to identify ocp trainer\n",
    "\n",
    "The trainer is not specified in some checkpoints, and defaults to `forces` which means energy and forces are calculated. This is the default for the ASE OCP calculator, and this warning just alerts you it is setting that.\n",
    "\n",
    "```\n",
    "WARNING:root:Unable to identify ocp trainer, defaulting to `forces`. Specify the `trainer` argument into OCPCalculator if otherwise.\n",
    "```"
   ]
  },
  {
   "cell_type": "markdown",
   "id": "be404c70",
   "metadata": {},
   "source": [
    "# Request entity too large - can't save your Notebook\n",
    "\n",
    "If you run commands that generate a lot of output in a notebook, sometimes the Jupyter notebook will become too large to save. It is kind of sad, the only thing I know to do is delete the output of the cell. Then maybe you can save it.\n",
    "\n",
    "A solution after you know it happens is redirect output to a file.\n",
    "\n",
    "This has happened when running training in a notebook where there are too many lines of output, or if you have a lot (20+) of inline images."
   ]
  },
  {
   "cell_type": "markdown",
   "id": "6be85c81",
   "metadata": {},
   "source": [
    "# You need at least four atoms for molecules with some models\n",
    "\n",
    "Gemnet in particular seems to require at least 4 atoms. This has to do with interactions between atoms and their neighbors."
   ]
  },
  {
   "cell_type": "code",
   "execution_count": null,
   "id": "9e5e1bad",
   "metadata": {},
   "outputs": [],
   "source": [
    "%%capture\n",
    "from fairchem.core.common.relaxation.ase_utils import OCPCalculator\n",
    "from fairchem.core.models.model_registry import model_name_to_local_file\n",
    "import os\n",
    "\n",
    "checkpoint_path = model_name_to_local_file('GemNet-OC-S2EFS-OC20+OC22', local_cache='/tmp/ocp_checkpoints/')\n",
    "\n",
    "calc = OCPCalculator(checkpoint_path=checkpoint_path)"
   ]
  },
  {
   "cell_type": "code",
   "execution_count": null,
   "id": "42e2771e",
   "metadata": {},
   "outputs": [],
   "source": [
    "%%capture\n",
    "from ase.build import molecule\n",
    "import numpy as np\n",
    "\n",
    "atoms = molecule('H2O')\n",
    "atoms.set_tags(np.ones(len(atoms)))\n",
    "atoms.set_calculator(calc)\n",
    "atoms.get_potential_energy()"
   ]
  },
  {
   "cell_type": "markdown",
   "id": "b4bed2da",
   "metadata": {},
   "source": [
    "# To tag or not?\n",
    "\n",
    "Some models use tags to determine which atoms to calculate energies for. For example, Gemnet uses a tag=1 to indicate the atom should be calculated. You will get an error with this model"
   ]
  },
  {
   "cell_type": "code",
   "execution_count": null,
   "id": "ba0674c2",
   "metadata": {},
   "outputs": [],
   "source": [
    "%%capture\n",
    "from fairchem.core.common.relaxation.ase_utils import OCPCalculator\n",
    "from fairchem.core.models.model_registry import model_name_to_local_file\n",
    "import os\n",
    "\n",
    "checkpoint_path = model_name_to_local_file('GemNet-OC-S2EFS-OC20+OC22', local_cache='/tmp/ocp_checkpoints/')\n",
    "calc = OCPCalculator(checkpoint_path=checkpoint_path)"
   ]
  },
  {
   "cell_type": "code",
   "execution_count": null,
   "id": "799915bc",
   "metadata": {},
   "outputs": [],
   "source": [
    "%%capture\n",
    "atoms = molecule('CH4')\n",
    "atoms.set_calculator(calc)\n",
    "atoms.get_potential_energy()  # error"
   ]
  },
  {
   "cell_type": "code",
   "execution_count": null,
   "id": "24a357fe",
   "metadata": {},
   "outputs": [],
   "source": [
    "atoms = molecule('CH4')\n",
    "atoms.set_tags(np.ones(len(atoms)))  # <- critical line for Gemnet\n",
    "atoms.set_calculator(calc)\n",
    "atoms.get_potential_energy()"
   ]
  },
  {
   "cell_type": "markdown",
   "id": "ff0f8653",
   "metadata": {},
   "source": [
    "Not all models require tags though. This EquiformerV2 model does not use them. This is another detail that is important to keep in mind."
   ]
  },
  {
   "cell_type": "code",
   "execution_count": null,
   "id": "557b376d",
   "metadata": {},
   "outputs": [],
   "source": [
    "from fairchem.core.common.relaxation.ase_utils import OCPCalculator\n",
    "from fairchem.core.models.model_registry import model_name_to_local_file\n",
    "import os\n",
    "\n",
    "checkpoint_path = model_name_to_local_file('EquiformerV2-31M-S2EF-OC20-All+MD', local_cache='/tmp/ocp_checkpoints/')\n",
    "\n",
    "calc = OCPCalculator(checkpoint_path=checkpoint_path)"
   ]
  },
  {
   "cell_type": "code",
   "execution_count": null,
   "id": "11ef5bdb",
   "metadata": {},
   "outputs": [],
   "source": [
    "atoms = molecule('CH4')\n",
    "\n",
    "atoms.set_calculator(calc)\n",
    "atoms.get_potential_energy()"
   ]
  },
  {
   "cell_type": "markdown",
   "id": "ff490943",
   "metadata": {},
   "source": [
    "# Stochastic simulation results\n",
    "\n",
    "Some models are not deterministic (SCN/eSCN/EqV2), i.e. you can get slightly different answers each time you run it.\n",
    "An example is shown below. See [Issue 563](https://github.com/FAIR-Chem/fairchem/issues/563) for more discussion.\n",
    "This happens because a random selection of is made to sample edges, and a different selection is made each time you run it."
   ]
  },
  {
   "cell_type": "code",
   "execution_count": null,
   "id": "045da450",
   "metadata": {},
   "outputs": [],
   "source": [
    "from fairchem.core.models.model_registry import model_name_to_local_file\n",
    "from fairchem.core.common.relaxation.ase_utils import OCPCalculator\n",
    "\n",
    "checkpoint_path = model_name_to_local_file('EquiformerV2-31M-S2EF-OC20-All+MD', local_cache='/tmp/ocp_checkpoints/')\n",
    "calc = OCPCalculator(checkpoint_path=checkpoint_path, cpu=True)\n",
    "\n",
    "from ase.build import fcc111, add_adsorbate\n",
    "from ase.optimize import BFGS\n",
    "slab = fcc111('Pt', size=(2, 2, 5), vacuum=10.0)\n",
    "add_adsorbate(slab, 'O', height=1.2, position='fcc')\n",
    "slab.set_calculator(calc)\n",
    "\n",
    "results = []\n",
    "for i in range(10):\n",
    "    calc.calculate(slab, ['energy'], None)\n",
    "    results += [slab.get_potential_energy()]\n",
    "\n",
    "import numpy as np\n",
    "print(np.mean(results), np.std(results))\n",
    "for result in results:\n",
    "    print(result)"
   ]
  },
  {
   "cell_type": "markdown",
   "id": "c5497fc0",
   "metadata": {},
   "source": [
    "# The forces don't sum to zero\n",
    "\n",
    "In DFT, the forces on all the atoms should sum to zero; otherwise, there is a net translational or rotational force present. This is not enforced in fairchem models. Instead, individual forces are predicted, with no constraint that they sum to zero. If the force predictions are very accurate, then they sum close to zero. You can further improve this if you subtract the mean force from each atom."
   ]
  },
  {
   "cell_type": "code",
   "execution_count": null,
   "id": "174adef9",
   "metadata": {},
   "outputs": [],
   "source": [
    "from fairchem.core.models.model_registry import model_name_to_local_file\n",
    "checkpoint_path = model_name_to_local_file('EquiformerV2-31M-S2EF-OC20-All+MD', local_cache='/tmp/ocp_checkpoints/')\n",
    "\n",
    "from fairchem.core.common.relaxation.ase_utils import OCPCalculator\n",
    "calc = OCPCalculator(checkpoint_path=checkpoint_path, cpu=True)\n",
    "\n",
    "from ase.build import fcc111, add_adsorbate\n",
    "from ase.optimize import BFGS\n",
    "slab = fcc111('Pt', size=(2, 2, 5), vacuum=10.0)\n",
    "add_adsorbate(slab, 'O', height=1.2, position='fcc')\n",
    "slab.set_calculator(calc)\n",
    "\n",
    "f = slab.get_forces()\n",
    "f.sum(axis=0)"
   ]
  },
  {
   "cell_type": "code",
   "execution_count": null,
   "id": "395340c4",
   "metadata": {},
   "outputs": [],
   "source": [
    "# This makes them sum closer to zero by removing net translational force\n",
    "(f - f.mean(axis=0)).sum(axis=0)"
   ]
  }
 ],
 "metadata": {
  "kernelspec": {
   "display_name": "Python 3 (ipykernel)",
   "language": "python",
   "name": "python3"
  }
 },
 "nbformat": 4,
 "nbformat_minor": 5
}
