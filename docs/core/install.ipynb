{
 "cells": [
  {
   "cell_type": "markdown",
   "id": "0d3ca838",
   "metadata": {
    "lines_to_next_cell": 0
   },
   "source": [
    "# Installation\n",
    "\n",
    "To install `fairchem-core` you will need to setup the `fairchem-core` environment (using [conda](#Conda) or [pip](#PyPi))\n",
    "and then either install `fairchem-core` package [directly](#Install-fairchem-core) or install a [development version](#Development-install) from our git repository.\n",
    "\n",
    "## Environment\n",
    "\n",
    "You can install the environment using either conda or pip\n",
    "\n",
    "### Conda\n",
    "\n",
    "We do not have official conda recipes (yet!); in the meantime you can use the\n",
    "following environment yaml files to setup on CPU or GPU. If conda is too slow for you, please consider using [mamba](https://mamba.readthedocs.io/en/latest/user_guide/mamba.html)\n",
    "\n",
    "1. Create an environment to install *fairchem*\n",
    "\n",
    "   a. **GPU**\n",
    "\n",
    "      The default environment uses cuda 11.8, if you need a different version you will have to edit *pytorch-cuda* version\n",
    "      accordingly.\n",
    "      ```bash\n",
    "      wget https://raw.githubusercontent.com/FAIR-Chem/fairchem/main/packages/env.gpu.yml\n",
    "      conda env create -f env.gpu.yml\n",
    "      ```\n",
    "\n",
    "   b. **CPU**\n",
    "      ```bash\n",
    "      wget https://raw.githubusercontent.com/FAIR-Chem/fairchem/main/packages/env.cpu.yml\n",
    "      conda env create -f env.cpu.yml\n",
    "      ```\n",
    "\n",
    "2. Activate the environment\n",
    "   ```bash\n",
    "   conda activate fair-chem\n",
    "   ```\n",
    "\n",
    "### PyPi\n",
    "You can also install `pytorch` and `torch_geometric` dependencies from PyPI to select specific CPU or CUDA versions.\n",
    "\n",
    "1. Install `pytorch` by selecting your installer, OS and CPU or CUDA version following the official\n",
    "[Pytorch docs](https://pytorch.org/get-started/locally/)\n",
    "\n",
    "2. Install `torch_geometric` and the `torch_scatter`, `torch_sparse`, and `torch_cluster` optional dependencies\n",
    "   similarly by selecting the appropriate versions in the official\n",
    "   [PyG docs](https://pytorch-geometric.readthedocs.io/en/latest/notes/installation.html)\n",
    "\n",
    "## Install fairchem-core\n",
    "Install `fairchem-core` from PyPi"
   ]
  },
  {
   "cell_type": "code",
   "execution_count": null,
   "id": "9886bdd0",
   "metadata": {},
   "outputs": [],
   "source": [
    "pip install fairchem-core"
   ]
  },
  {
   "cell_type": "markdown",
   "id": "194c1793",
   "metadata": {
    "lines_to_next_cell": 0
   },
   "source": [
    "## Additional packages\n",
    "\n",
    "`fairchem` is a namespace package, meaning all packages are installed seperately. If you need\n",
    "to install other packages you can do so by:"
   ]
  },
  {
   "cell_type": "code",
   "execution_count": null,
   "id": "2f7fee53",
   "metadata": {},
   "outputs": [],
   "source": [
    "pip install fairchem-{package-to-install}"
   ]
  },
  {
   "cell_type": "markdown",
   "id": "cdce7a1b",
   "metadata": {
    "lines_to_next_cell": 0
   },
   "source": [
    "## Development install\n",
    "\n",
    "If you plan to make contributions you will need to fork and clone (for windows user please see next section) the repo,\n",
    "set up the environment, and install fairchem-core from source in editable mode with dev dependencies,"
   ]
  },
  {
   "cell_type": "code",
   "execution_count": null,
   "id": "f407ff64",
   "metadata": {},
   "outputs": [],
   "source": [
    "git clone https://github.com/FAIR-Chem/fairchem.git\n",
    "cd fairchem\n",
    "pip install -e packages/fairchem-core[dev]"
   ]
  },
  {
   "cell_type": "markdown",
   "id": "5ae48fa1",
   "metadata": {
    "lines_to_next_cell": 0
   },
   "source": [
    "And similarly for any other namespace package:"
   ]
  },
  {
   "cell_type": "code",
   "execution_count": null,
   "id": "5e5e564e",
   "metadata": {},
   "outputs": [],
   "source": [
    "pip install -e packages/fairchem-{package-to-install}"
   ]
  },
  {
   "cell_type": "markdown",
   "id": "6f24a333",
   "metadata": {},
   "source": [
    "### Cloning and installing the git repository on windows\n",
    "\n",
    "Our build system requires the use of symlinks which are not available by default on windows. To properly build fairchem packages you must enable symlinks and clone the repository with them enabled.\n",
    "\n",
    "1) When installing git on your machine make sure \"enable symbolic links\" is checked  ([download git installer](https://git-scm.com/download/win)) ([see here](https://stackoverflow.com/a/65563980) for detailed instructions )\n",
    "\n",
    "2) Enable developer mode ([instructions](https://learn.microsoft.com/en-us/windows/apps/get-started/enable-your-device-for-development)) or run the following commands as administrator\n",
    "\n",
    "3) Run the git clone command with symlinks enabled\n",
    "```\n",
    "git clone -c core.symlinks=true https://github.com/FAIR-Chem/fairchem.git\n",
    "```"
   ]
  }
 ],
 "metadata": {
  "jupytext": {
   "cell_metadata_filter": "-all",
   "main_language": "bash",
   "notebook_metadata_filter": "-all"
  }
 },
 "nbformat": 4,
 "nbformat_minor": 5
}
