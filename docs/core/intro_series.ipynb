{
 "cells": [
  {
   "cell_type": "markdown",
   "id": "81629893",
   "metadata": {},
   "source": [
    "# Why model atoms for climate?\n",
    "\n",
    "New to chemistry but excited to know how ML can help? [Larry Zitnick](http://larryzitnick.org/) has made a few intro\n",
    "videos for audiences without a computational chemistry background!\n",
    "\n",
    "<iframe width=\"560\" height=\"315\" src=\"https://www.youtube.com/embed/videoseries?si=IDjebRSRSThxX7Ar&amp;list=PLU7acyFOb6DXgCTAi2TwKXaFD_i3C6hSL\" title=\"YouTube video player\" frameborder=\"0\" allow=\"accelerometer; autoplay; clipboard-write; encrypted-media; gyroscope; picture-in-picture; web-share\" referrerpolicy=\"strict-origin-when-cross-origin\" allowfullscreen></iframe>"
   ]
  }
 ],
 "metadata": {
  "jupytext": {
   "cell_metadata_filter": "-all",
   "main_language": "python",
   "notebook_metadata_filter": "-all"
  }
 },
 "nbformat": 4,
 "nbformat_minor": 5
}
