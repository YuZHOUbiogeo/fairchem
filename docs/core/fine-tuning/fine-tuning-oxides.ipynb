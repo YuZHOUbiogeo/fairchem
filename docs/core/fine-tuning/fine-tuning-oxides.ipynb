{
 "cells": [
  {
   "cell_type": "markdown",
   "id": "f57efdfa",
   "metadata": {},
   "source": [
    "# Fine tuning a model\n",
    "\n",
    "In this section we look at how to improve a model. We start by using a pre-trained model to predict the energies of several oxide polymorphs. The data here comes from this paper:\n",
    "\n",
    "Identifying Potential BO<sub>2</sub> Oxide Polymorphs for Epitaxial Growth Candidates\n",
    "Mehta, P., Salvador, P. A., & Kitchin, J. R. (2015). Identifying potential BO2 oxide polymorphs for epitaxial growth candidates. ACS Appl. Mater. Interfaces, 6(5), 3630–3639. http://dx.doi.org/10.1021/am4059149.\n",
    "\n",
    "This data set shows equations of state for several oxide/polymorph combinations. I use this dataset to compare with predictions from OCP"
   ]
  },
  {
   "cell_type": "markdown",
   "id": "fb017c37",
   "metadata": {},
   "source": [
    "First we get the checkpoint that we want. According to the [MODELS](../../core/models) the GemNet-OC\tOC20+OC22 combination has an energy MAE of 0.483 which seems like a good place to start. This model was trained on oxides.\n",
    "\n",
    "We get this checkpoint here."
   ]
  },
  {
   "cell_type": "code",
   "execution_count": null,
   "id": "f85287b6",
   "metadata": {},
   "outputs": [],
   "source": [
    "from fairchem.core.models.model_registry import model_name_to_local_file\n",
    "\n",
    "checkpoint_path = model_name_to_local_file('GemNet-OC-S2EFS-OC20+OC22', local_cache='/tmp/ocp_checkpoints/')"
   ]
  },
  {
   "cell_type": "markdown",
   "id": "c959a89b",
   "metadata": {},
   "source": [
    "The data we need is provided in `supporting-information.json`. That file is embedded in the supporting information for the article, and is provided here in the tutorial. We load this data and explore it a little. The json file provides a dictionary with the structure:\n",
    "\n",
    "    [oxide][polymorph][xc][EOS][configurations]\n",
    "    \n",
    "The first key is a composition, the second is a string for the polymorph structure, the third indicates which XC functional was used (we focus on PBE here), the fourth key is for the Equation of State calculations, and the last key is a list of results for the EOS."
   ]
  },
  {
   "cell_type": "code",
   "execution_count": null,
   "id": "16e39ccb",
   "metadata": {},
   "outputs": [],
   "source": [
    "import json\n",
    "import numpy as np\n",
    "import matplotlib.pyplot as plt\n",
    "from ase import Atoms\n",
    "\n",
    "with open('supporting-information.json', 'rb') as f:\n",
    "     d = json.loads(f.read())\n",
    "        \n",
    "\n",
    "oxides = list(d.keys())\n",
    "polymorphs = list(d['TiO2'].keys())\n",
    "oxides, polymorphs"
   ]
  },
  {
   "cell_type": "markdown",
   "id": "d0c0deaf",
   "metadata": {},
   "source": [
    "A specific calculation has a lot of details in it. You can use this to recreate the calculations. Shortly we will use these to compare the DFT results to OCP."
   ]
  },
  {
   "cell_type": "code",
   "execution_count": null,
   "id": "2a955d17",
   "metadata": {},
   "outputs": [],
   "source": [
    "d['TiO2']['rutile']['PBE']['EOS']['calculations'][0]"
   ]
  },
  {
   "cell_type": "markdown",
   "id": "f1db38f2",
   "metadata": {},
   "source": [
    "For each result we can retrieve the atomic geometry, energy and forces from the json file. We use these to recreate an Atoms object. Here is an example."
   ]
  },
  {
   "cell_type": "code",
   "execution_count": null,
   "id": "0607ca80",
   "metadata": {},
   "outputs": [],
   "source": [
    "c = d['TiO2']['rutile']['PBE']['EOS']['calculations'][0]\n",
    "atoms = Atoms(symbols=c['atoms']['symbols'],\n",
    "              positions=c['atoms']['positions'],\n",
    "              cell=c['atoms']['cell'],\n",
    "              pbc=c['atoms']['pbc'])\n",
    "atoms.set_tags(np.ones(len(atoms)))\n",
    "atoms, c['data']['total_energy'], c['data']['forces']"
   ]
  },
  {
   "cell_type": "markdown",
   "id": "2a2a0c2d",
   "metadata": {},
   "source": [
    "Next, we will create an OCP calculator that we can use to get predictions from."
   ]
  },
  {
   "cell_type": "code",
   "execution_count": null,
   "id": "3ab6369f",
   "metadata": {},
   "outputs": [],
   "source": [
    "from fairchem.core.common.relaxation.ase_utils import OCPCalculator\n",
    "calc = OCPCalculator(checkpoint_path=checkpoint_path, trainer='forces', cpu=False)"
   ]
  },
  {
   "cell_type": "markdown",
   "id": "bc11684b",
   "metadata": {},
   "source": [
    "Now, we loop through each structure and accumulate the OCP predictions. Then, we plot the parity results."
   ]
  },
  {
   "cell_type": "code",
   "execution_count": null,
   "id": "0a3eb625",
   "metadata": {},
   "outputs": [],
   "source": [
    "import time\n",
    "t0 = time.time()\n",
    "\n",
    "eos_data = {}\n",
    "for oxide in oxides:\n",
    "    eos_data[oxide] = {}\n",
    "    for polymorph in polymorphs:\n",
    "        dft = []\n",
    "        ocp = []\n",
    "        vols = []\n",
    "        calculations = d[oxide][polymorph]['PBE']['EOS']['calculations']\n",
    "        for c in calculations:\n",
    "                        \n",
    "            atoms = Atoms(symbols=c['atoms']['symbols'],\n",
    "                          positions=c['atoms']['positions'],\n",
    "                          cell=c['atoms']['cell'],\n",
    "                          pbc=c['atoms']['pbc'])\n",
    "            atoms.set_tags(np.ones(len(atoms)))\n",
    "            \n",
    "            atoms.calc = calc\n",
    "            ocp += [atoms.get_potential_energy() / len(atoms)]\n",
    "            dft += [c['data']['total_energy'] / len(atoms)]\n",
    "            vols += [atoms.get_volume()]\n",
    "        plt.plot(dft, ocp, marker='s' if oxide == 'VO2' else '.',\n",
    "                 alpha=0.5, label=f'{oxide}-{polymorph}')\n",
    "        eos_data[oxide][polymorph] = (vols, dft, ocp)\n",
    "        \n",
    "plt.xlabel('DFT (eV/atom)')\n",
    "plt.ylabel('OCP (eV/atom)')\n",
    "plt.legend(loc='center left', bbox_to_anchor=(1, 0.5), ncol=3);\n",
    "print(f'Elapsed time {time.time() - t0:1.1f} seconds.')"
   ]
  },
  {
   "cell_type": "code",
   "execution_count": null,
   "id": "4c74c042",
   "metadata": {},
   "outputs": [],
   "source": [
    "mae = np.mean(np.abs(np.array(dft) - np.array(ocp)))\n",
    "print(f'MAE = {mae:1.3f} eV/atom')"
   ]
  },
  {
   "cell_type": "markdown",
   "id": "b761626a",
   "metadata": {},
   "source": [
    "The MAE is somewhat high compared to the reported value of 0.458 eV. That is not too surprising; although OC22 was trained on oxides, it was not trained on all of these structures. It is also evident on inspection that the main issues are all the VO2 structures, and these skew the MAE. Next we look at the EOS for each material. Here you can see offsets, and qualitative issues in the shapes. The offset is largely a PBE/RPBE difference.\n",
    "\n",
    "Some notable issues are with fluorite structures. We show one here for VO2."
   ]
  },
  {
   "cell_type": "code",
   "execution_count": null,
   "id": "ac88b91c",
   "metadata": {},
   "outputs": [],
   "source": [
    "oxide, polymorph = 'VO2', 'fluorite'\n",
    "V, D, O = eos_data[oxide][polymorph]\n",
    "        \n",
    "plt.plot(V, D, label='dft')\n",
    "plt.plot(V, O, label='ocp')\n",
    "plt.title(f'pretrained {oxide} - {polymorph}')\n",
    "plt.legend();"
   ]
  },
  {
   "cell_type": "markdown",
   "id": "d7ea92e9",
   "metadata": {},
   "source": [
    "We can improve this by fine-tuning the model."
   ]
  },
  {
   "cell_type": "markdown",
   "id": "18361391",
   "metadata": {},
   "source": [
    "# Fine tuning the checkpoint\n",
    "\n",
    "There are severeal steps in fine-tuning:\n",
    "1. Create train, test, val datasets\n",
    "2. Create a configuration yml file\n",
    "3. Run the training\n",
    "4. Check the results\n",
    "\n",
    "First we create the training databases. OCP supports ase databases, so we use those here. The first step is to make a database containing the data. We need to write an atoms object with an attached SinglePointCalculator for each structure."
   ]
  },
  {
   "cell_type": "code",
   "execution_count": null,
   "id": "4800df96",
   "metadata": {},
   "outputs": [],
   "source": [
    "from ase.db import connect\n",
    "from ase.calculators.singlepoint import SinglePointCalculator\n",
    "\n",
    "! rm -fr oxides.db  # start clean when you run this cell\n",
    "db = connect('oxides.db')"
   ]
  },
  {
   "cell_type": "code",
   "execution_count": null,
   "id": "1bf046ef",
   "metadata": {},
   "outputs": [],
   "source": [
    "for oxide in oxides:\n",
    "    for polymorph in polymorphs:\n",
    "        for c in d[oxide][polymorph]['PBE']['EOS']['calculations']:\n",
    "            atoms = Atoms(symbols=c['atoms']['symbols'],\n",
    "                          positions=c['atoms']['positions'],\n",
    "                          cell=c['atoms']['cell'],\n",
    "                          pbc=c['atoms']['pbc'])\n",
    "            atoms.set_tags(np.ones(len(atoms)))\n",
    "            calc = SinglePointCalculator(atoms, \n",
    "                                         energy=c['data']['total_energy'],\n",
    "                                         forces=c['data']['forces'])\n",
    "            atoms.set_calculator(calc)\n",
    "            db.write(atoms)"
   ]
  },
  {
   "cell_type": "markdown",
   "id": "acefbe20",
   "metadata": {},
   "source": [
    "Let's see what we made."
   ]
  },
  {
   "cell_type": "code",
   "execution_count": null,
   "id": "ae6e1302",
   "metadata": {},
   "outputs": [],
   "source": [
    "! ase db oxides.db"
   ]
  },
  {
   "cell_type": "markdown",
   "id": "918ec8ef",
   "metadata": {},
   "source": [
    "## Make the train, test, val splits\n",
    "\n",
    "We need to split the ase-db into three separate databases, one for training (80%), one for testing (10%) and one for validation. We generate a list of ids and then shuffle them. Then we write the first 80% into `train.db`, the next 10% into `test.db`, and the remaining into `val.db`.\n",
    "\n",
    "The train set is used for training. The test and val sets are used to check for overfitting.\n",
    "\n",
    "You choose the splits you want, 80:10:10 is common. We take a simple approach to split the database here. We make an array of integers that correspond to the ids, randomly shuffle them, and then get each row in the randomized order and write them to a new db.\n",
    "\n",
    "We provide some helper functions in `fairchem.core.common.tutorial_utils` to streamline this process."
   ]
  },
  {
   "cell_type": "code",
   "execution_count": null,
   "id": "58380d38",
   "metadata": {},
   "outputs": [],
   "source": [
    "from fairchem.core.common.tutorial_utils import train_test_val_split\n",
    "! rm -fr train.db test.db val.db\n",
    "\n",
    "train, test, val = train_test_val_split('oxides.db')\n",
    "train, test, val"
   ]
  },
  {
   "cell_type": "markdown",
   "id": "6ccd3c6c",
   "metadata": {},
   "source": [
    "## Setting up the configuration yaml file\n",
    "\n",
    "We have to create a yaml configuration file for the model we are using. The pre-trained checkpoints contain their config data, so we use this to get the base configuration, and then remove pieces we don't need, and update pieces we do need."
   ]
  },
  {
   "cell_type": "code",
   "execution_count": null,
   "id": "74ca52d3",
   "metadata": {},
   "outputs": [],
   "source": [
    "from fairchem.core.common.tutorial_utils import generate_yml_config \n",
    "\n",
    "yml = generate_yml_config(checkpoint_path, 'config.yml',\n",
    "                   delete=['slurm', 'cmd', 'logger', 'task', 'model_attributes',\n",
    "                           'optim.loss_force', # the checkpoint setting causes an error\n",
    "                           'dataset', 'test_dataset', 'val_dataset'],\n",
    "                   update={'gpus': 1,\n",
    "                           'optim.eval_every': 10,\n",
    "                           'optim.max_epochs': 1,\n",
    "                           'optim.batch_size': 4,\n",
    "                            'logger':'tensorboard', # don't use wandb!\n",
    "                           # Train data\n",
    "                           'dataset.train.src': 'train.db',\n",
    "                           'dataset.train.format': 'ase_db',\n",
    "                           'dataset.train.a2g_args.r_energy': True,\n",
    "                           'dataset.train.a2g_args.r_forces': True,\n",
    "                            # Test data - prediction only so no regression\n",
    "                           'dataset.test.src': 'test.db',\n",
    "                           'dataset.test.format': 'ase_db',\n",
    "                           'dataset.test.a2g_args.r_energy': False,\n",
    "                           'dataset.test.a2g_args.r_forces': False,\n",
    "                           # val data\n",
    "                           'dataset.val.src': 'val.db',\n",
    "                           'dataset.val.format': 'ase_db',\n",
    "                           'dataset.val.a2g_args.r_energy': True,\n",
    "                           'dataset.val.a2g_args.r_forces': True,\n",
    "                          })\n",
    "\n",
    "yml"
   ]
  },
  {
   "cell_type": "code",
   "execution_count": null,
   "id": "7faa8cc0",
   "metadata": {},
   "outputs": [],
   "source": [
    "! cat config.yml"
   ]
  },
  {
   "cell_type": "markdown",
   "id": "f1d09da8",
   "metadata": {},
   "source": [
    "## Running the training job\n",
    "\n",
    "`fairchem` provides a `main.py` file that is used for training. Here we construct the Python command you need to run, and run it. `main.py` is not executable, so we have to run it with python, and you need the absolute path to it, which we get from the `fairchem_main()` that is defined in the fairchem.core.common.tutorial_utils.\n",
    "\n",
    "you must set a `mode` and provide a `config-yml`. We provide a checkpoint for a starting point, if you don't do this, it will start from scratch. \n",
    "\n",
    "By default the files that are created go in a directories called `checkpoints`, `logs` and `results`. You can change that with a `--run-dir preferred-place` option.\n",
    "\n",
    "You can also add an identifier tag to the end of the timestamps with `--identifier tag`. This can make it easier to find them later.\n",
    "\n",
    "The cell below uses some IPython magic to put Python variables in the shell command.\n",
    "\n",
    "This command takes some time to run even on a GPU, e.g. about 30 minutes. \n",
    "\n",
    "It is advisable to redirect the outputs to files. The reason is that if the outputs are very large, the notebook may not be able to be saved. This also makes your notebooks more reproducible. The checkpoints are stored in time-stamped directories that change everytime you run them. Below we show how to reproducibly retrieve this directory name in a way that allows you to run the notebook again later, while automatically updating the directory name.\n",
    "\n",
    "You can follow how the training is going by opening a terminal and running\n",
    "\n",
    "    tail -f train.txt\n",
    "    \n",
    "You can also visit it in a browser at [train.txt](./train.txt). You have to periodically refresh the view to see updates though.\n",
    "\n",
    "This can take up to 30 minutes for 80 epochs, so we only do a few here to see what happens."
   ]
  },
  {
   "cell_type": "code",
   "execution_count": null,
   "id": "19491ce7",
   "metadata": {
    "tags": [
     "hide-output"
    ]
   },
   "outputs": [],
   "source": [
    "import time\n",
    "from fairchem.core.common.tutorial_utils import fairchem_main\n",
    "\n",
    "t0 = time.time()\n",
    "! python {fairchem_main()} --mode train --config-yml {yml} --checkpoint {checkpoint_path} --run-dir fine-tuning --identifier ft-oxides --amp > train.txt 2>&1 \n",
    "print(f'Elapsed time = {time.time() - t0:1.1f} seconds')"
   ]
  },
  {
   "cell_type": "markdown",
   "id": "2e284c53",
   "metadata": {},
   "source": [
    "Now since we have a file, we can find the training results in it. See [train.txt](./train.txt). At the top, the config is printed, so we can get the checkpoint directory. I use shell commands and Python to get the line, split and strip it here."
   ]
  },
  {
   "cell_type": "code",
   "execution_count": null,
   "id": "daeaa257",
   "metadata": {},
   "outputs": [],
   "source": [
    "cpline = !grep \"checkpoint_dir:\" train.txt\n",
    "cpdir = cpline[0].split(':')[-1].strip()\n",
    "cpdir"
   ]
  },
  {
   "cell_type": "markdown",
   "id": "c6504c40",
   "metadata": {},
   "source": [
    "There will be two files in there: `checkpoint.pt` and `best_checkpoint.pt`. \n",
    "\n",
    "The `best_checkpoint.pt` is the one that performs best on the validation dataset. The `checkpoint.pt` is the most recently saved one. Probably it has the lowest loss in training, but this could be an indication of overfitting. You have to use some judgement in determining which one to use, and if it is sufficiently accurate for your needs. It may need additional training to further improve it."
   ]
  },
  {
   "cell_type": "code",
   "execution_count": null,
   "id": "5ab7a18a",
   "metadata": {},
   "outputs": [],
   "source": [
    "newckpt = cpdir + '/checkpoint.pt'\n",
    "newcalc = OCPCalculator(checkpoint_path=newckpt, cpu=False)"
   ]
  },
  {
   "cell_type": "code",
   "execution_count": null,
   "id": "c34142be",
   "metadata": {},
   "outputs": [],
   "source": [
    "eos_data = {}\n",
    "for oxide in oxides:\n",
    "    eos_data[oxide] = {}\n",
    "    for polymorph in polymorphs:\n",
    "        dft = []\n",
    "        ocp = []\n",
    "        vols = []\n",
    "        calculations = d[oxide][polymorph]['PBE']['EOS']['calculations']\n",
    "        for c in calculations:\n",
    "                        \n",
    "            atoms = Atoms(symbols=c['atoms']['symbols'],\n",
    "                          positions=c['atoms']['positions'],\n",
    "                          cell=c['atoms']['cell'],\n",
    "                          pbc=c['atoms']['pbc'])\n",
    "            atoms.set_tags(np.ones(len(atoms)))\n",
    "            \n",
    "            atoms.calc = newcalc\n",
    "            ocp += [atoms.get_potential_energy() / len(atoms)]\n",
    "            dft += [c['data']['total_energy'] / len(atoms)]\n",
    "            vols += [atoms.get_volume()]\n",
    "        plt.plot(dft, ocp, marker='s' if oxide == 'VO2' else '.',\n",
    "                 alpha=0.5, label=f'{oxide}-{polymorph}')\n",
    "        eos_data[oxide][polymorph] = (vols, dft, ocp)\n",
    "        \n",
    "plt.xlabel('DFT (eV/atom)')\n",
    "plt.ylabel('OCP (eV/atom)')\n",
    "plt.legend(loc='center left', bbox_to_anchor=(1, 0.5), ncol=3);"
   ]
  },
  {
   "cell_type": "code",
   "execution_count": null,
   "id": "3c51beaa",
   "metadata": {},
   "outputs": [],
   "source": [
    "mae = np.mean(np.abs(np.array(dft) - np.array(ocp)))\n",
    "print(f'New MAE = {mae:1.3f} eV/atom')"
   ]
  },
  {
   "cell_type": "markdown",
   "id": "c5215ed7",
   "metadata": {},
   "source": [
    "This is a substantial improvement! We can see what it means in terms of the Equations of State. There is still not perfect agreement, but the curves are closer together. Additional fine tuning, or a better model could probably still improve this."
   ]
  },
  {
   "cell_type": "code",
   "execution_count": null,
   "id": "ba6165d4",
   "metadata": {},
   "outputs": [],
   "source": [
    "oxide, polymorph = 'VO2', 'fluorite'\n",
    "V, D, O = eos_data[oxide][polymorph]\n",
    "        \n",
    "plt.plot(V, D, label='dft')\n",
    "plt.plot(V, O, label='ocp')\n",
    "plt.title(f'fine-tuned {oxide} - {polymorph}')\n",
    "plt.legend();"
   ]
  },
  {
   "cell_type": "markdown",
   "id": "4a63157b",
   "metadata": {},
   "source": [
    "It is possible to continue refining the fit. The simple things to do are to use more epochs of training. Eventually the MAE will stabilize, and then it may be necessary to adjust other optimization parameters like the learning rate (usually you decrease it). \n",
    "\n",
    "Depending on what is important to you, you may consider changing the relative importances of energy and forces; you can often trade off accuracy of one for the other. It may be necessary to add additional data to cover the composition and configuration space more thoroughly.\n",
    "\n",
    "There are also other models you could consider. Newer models tend to be more accurate, but they may also be more expensive to run. These are all compromises you can consider."
   ]
  }
 ],
 "metadata": {
  "kernelspec": {
   "display_name": "Python 3 (ipykernel)",
   "language": "python",
   "name": "python3"
  }
 },
 "nbformat": 4,
 "nbformat_minor": 5
}
