{
 "cells": [
  {
   "cell_type": "markdown",
   "id": "1ab88cec",
   "metadata": {},
   "source": [
    "# ocpapi\n",
    "\n",
    "Python library for programmatic use of the [Open Catalyst Demo](https://open-catalyst.metademolab.com/). Users unfamiliar with the Open Catalyst Demo are encouraged to read more about it before continuing.\n",
    "\n",
    "## Installation\n",
    "\n",
    "Ensure you have Python 3.9.1 or newer, and install `ocpapi` using:"
   ]
  },
  {
   "cell_type": "code",
   "execution_count": null,
   "id": "f4167475",
   "metadata": {},
   "outputs": [],
   "source": [
    "%%sh\n",
    "pip install -q ocpapi"
   ]
  },
  {
   "cell_type": "markdown",
   "id": "bcaac634",
   "metadata": {},
   "source": [
    "## Quickstart\n",
    "\n",
    "The following examples are used to search for *OH binding sites on Pt surfaces. They use the `find_adsorbate_binding_sites` function, which is a high-level workflow on top of other methods included in this library. Once familiar with this routine, users are encouraged to learn about lower-level methods and features that support more advanced use cases.\n",
    "\n",
    "### Note about async methods\n",
    "\n",
    "This package relies heavily on [asyncio](https://docs.python.org/3/library/asyncio.html). The examples throughout this document can be copied to a python repl launched with:"
   ]
  },
  {
   "cell_type": "code",
   "execution_count": null,
   "id": "e7ce4232",
   "metadata": {
    "tags": [
     "skip-execution"
    ]
   },
   "outputs": [],
   "source": [
    "%%sh\n",
    "$ python -m asyncio"
   ]
  },
  {
   "cell_type": "markdown",
   "id": "ae6c960c",
   "metadata": {},
   "source": [
    "Alternatively, an async function can be run in a script by wrapping it with [asyncio.run()](https://docs.python.org/3/library/asyncio-runner.html#asyncio.run):"
   ]
  },
  {
   "cell_type": "code",
   "execution_count": null,
   "id": "4ccfc71d",
   "metadata": {
    "tags": [
     "skip-execution"
    ]
   },
   "outputs": [],
   "source": [
    "import asyncio\n",
    "from fairchem.demo.ocpapi import find_adsorbate_binding_sites\n",
    "\n",
    "asyncio.run(find_adsorbate_binding_sites(...))"
   ]
  },
  {
   "cell_type": "markdown",
   "id": "4c4a3d13",
   "metadata": {},
   "source": [
    "Since this is being evaluated as a jupyter notebook, ipython will handle this for you automatically!\n",
    "\n",
    "### Search over all surfaces"
   ]
  },
  {
   "cell_type": "code",
   "execution_count": null,
   "id": "e383f604",
   "metadata": {
    "tags": [
     "skip-execution"
    ]
   },
   "outputs": [],
   "source": [
    "from fairchem.demo.ocpapi import find_adsorbate_binding_sites\n",
    "\n",
    "results = await find_adsorbate_binding_sites(\n",
    "    adsorbate=\"*OH\",\n",
    "    bulk=\"mp-126\",\n",
    ")"
   ]
  },
  {
   "cell_type": "markdown",
   "id": "c90b1f27",
   "metadata": {},
   "source": [
    "Users will be prompted to select one or more surfaces that should be relaxed.\n",
    "\n",
    "Input to this function includes:\n",
    "\n",
    "* The name of the adsorbate to place\n",
    "* A unique ID of the bulk structure from which surfaces will be generated\n",
    "\n",
    "This function will perform the following steps:\n",
    "\n",
    "1. Enumerate surfaces of the bulk material\n",
    "2. On each surface, enumerate initial guesses for adorbate binding sites\n",
    "3. Run local force-based relaxations of each adsorbate placement\n",
    "\n",
    "In addition, this handles:\n",
    "\n",
    "* Retrying failed calls to the Open Catalyst Demo API\n",
    "* Retrying submission of relaxations when they are rate limited\n",
    "\n",
    "This should take 2-10 minutes to finish while tens to hundreds (depending on the number of surfaces that are selected) of individual adsorbate placements are relaxed on unique surfaces of Pt. Each of the objects in the returned list includes (among other details):\n",
    "\n",
    "* Information about the surface being searched, including its structure and Miller indices\n",
    "* The initial positions of the adsorbate before relaxation\n",
    "* The final structure after relaxation\n",
    "* The predicted energy of the final structure\n",
    "* The predicted force on each atom in the final structure"
   ]
  },
  {
   "cell_type": "markdown",
   "id": "6f13c689",
   "metadata": {},
   "source": [
    "### Supported bulks and adsorbates\n",
    "\n",
    "A finite set of bulk materials and adsorbates can be referenced by ID throughout the OCP API. The lists of supported values can be viewed in two ways.\n",
    "\n",
    "1. Visit the UI at https://open-catalyst.metademolab.com/demo and explore the lists in Step 1 and Step 3.\n",
    "2. Use the low-level client that ships with this library:"
   ]
  },
  {
   "cell_type": "code",
   "execution_count": null,
   "id": "e802a316",
   "metadata": {
    "tags": [
     "skip-execution"
    ]
   },
   "outputs": [],
   "source": [
    "from fairchem.demo.ocpapi import Client\n",
    "\n",
    "client = Client()\n",
    "\n",
    "bulks = await client.get_bulks()\n",
    "print({b.src_id: b.formula for b in bulks.bulks_supported})\n",
    "\n",
    "adsorbates = await client.get_adsorbates()\n",
    "print(adsorbates.adsorbates_supported)"
   ]
  },
  {
   "cell_type": "markdown",
   "id": "0dab7d7d",
   "metadata": {},
   "source": [
    "### Skip relaxation approval prompts\n",
    "\n",
    "Calls to `find_adsorbate_binding_sites()` will, by default, show the user all pending relaxations and ask for approval before they are submitted. In order to run the relaxations automatically without manual approval, `adslab_filter` can be set to a function that automatically approves any or all adsorbate/slab (adslab) configurations.\n",
    "\n",
    "Run relaxations for all slabs that are generated:"
   ]
  },
  {
   "cell_type": "code",
   "execution_count": null,
   "id": "2359c957",
   "metadata": {
    "tags": [
     "skip-execution"
    ]
   },
   "outputs": [],
   "source": [
    "from fairchem.demo.ocpapi import find_adsorbate_binding_sites, keep_all_slabs\n",
    "\n",
    "results = await find_adsorbate_binding_sites(\n",
    "    adsorbate=\"*OH\",\n",
    "    bulk=\"mp-126\",\n",
    "    adslab_filter=keep_all_slabs(),\n",
    ")"
   ]
  },
  {
   "cell_type": "markdown",
   "id": "09634da3",
   "metadata": {},
   "source": [
    "Run relaxations only for slabs with Miller Indices in the input set:"
   ]
  },
  {
   "cell_type": "code",
   "execution_count": null,
   "id": "416842e3",
   "metadata": {
    "tags": [
     "skip-execution"
    ]
   },
   "outputs": [],
   "source": [
    "from fairchem.demo.ocpapi import find_adsorbate_binding_sites, keep_slabs_with_miller_indices\n",
    "\n",
    "results = await find_adsorbate_binding_sites(\n",
    "    adsorbate=\"*OH\",\n",
    "    bulk=\"mp-126\",\n",
    "    adslab_filter=keep_slabs_with_miller_indices([(1, 0, 0), (1, 1, 1)]),\n",
    ")\n",
    "print(results)"
   ]
  },
  {
   "cell_type": "markdown",
   "id": "d2cfe4f0",
   "metadata": {},
   "source": [
    "### Persisting results\n",
    "\n",
    "**Results should be saved whenever possible in order to avoid expensive recomputation.**\n",
    "\n",
    "Assuming `results` was generated with the `find_adsorbate_binding_sites` method used above, it is an `AdsorbateBindingSites` object. This can be saved to file with:"
   ]
  },
  {
   "cell_type": "code",
   "execution_count": null,
   "id": "2cf82cad",
   "metadata": {
    "tags": [
     "skip-execution"
    ]
   },
   "outputs": [],
   "source": [
    "with open(\"results.json\", \"w\") as f:\n",
    "    f.write(results.to_json())"
   ]
  },
  {
   "cell_type": "markdown",
   "id": "19bebd48",
   "metadata": {},
   "source": [
    "Similarly, results can be read back from file to an `AdsorbateBindingSites` object with:"
   ]
  },
  {
   "cell_type": "code",
   "execution_count": null,
   "id": "4fd48345",
   "metadata": {
    "tags": [
     "skip-execution"
    ]
   },
   "outputs": [],
   "source": [
    "from fairchem.demo.ocpapi import AdsorbateBindingSites\n",
    "\n",
    "with open(\"results.json\", \"r\") as f:\n",
    "    results = AdsorbateBindingSites.from_json(f.read())"
   ]
  },
  {
   "cell_type": "markdown",
   "id": "3a61df04",
   "metadata": {},
   "source": [
    "### Viewing results in the web UI\n",
    "\n",
    "Relaxation results can be viewed in a web UI. For example, https://open-catalyst.metademolab.com/results/7eaa0d63-83aa-473f-ac84-423ffd0c67f5 shows the results of relaxing *OH on a Pt (1,1,1) surface; the uuid, \"7eaa0d63-83aa-473f-ac84-423ffd0c67f5\", is referred to as the `system_id`.\n",
    "\n",
    "Extending the examples above, the URLs to visualize the results of relaxations on each Pt surface can be obtained with:"
   ]
  },
  {
   "cell_type": "code",
   "execution_count": null,
   "id": "c27a0383",
   "metadata": {
    "tags": [
     "skip-execution"
    ]
   },
   "outputs": [],
   "source": [
    "print([\n",
    "    slab.ui_url\n",
    "    for slab in results.slabs\n",
    "])"
   ]
  },
  {
   "cell_type": "markdown",
   "id": "c370593b",
   "metadata": {},
   "source": [
    "## Advanced usage\n",
    "\n",
    "### Changing the model type\n",
    "\n",
    "The API currently supports two models:\n",
    "* `equiformer_v2_31M_s2ef_all_md` (default): https://arxiv.org/abs/2306.12059\n",
    "* `gemnet_oc_base_s2ef_all_md`: https://arxiv.org/abs/2204.02782\n",
    "\n",
    "A specific model type can be requested with:"
   ]
  },
  {
   "cell_type": "code",
   "execution_count": null,
   "id": "82252339",
   "metadata": {
    "tags": [
     "skip-execution"
    ]
   },
   "outputs": [],
   "source": [
    "from fairchem.demo.ocpapi import find_adsorbate_binding_sites\n",
    "\n",
    "results = await find_adsorbate_binding_sites(\n",
    "    adsorbate=\"*OH\",\n",
    "    bulk=\"mp-126\",\n",
    "    model=\"gemnet_oc_base_s2ef_all_md\",\n",
    "    adslab_filter=keep_slabs_with_miller_indices([(1, 1, 1)]),\n",
    "\n",
    ")\n",
    "print([\n",
    "    slab.ui_url\n",
    "    for slab in results.slabs\n",
    "])"
   ]
  },
  {
   "cell_type": "markdown",
   "id": "27739f2e",
   "metadata": {},
   "source": [
    "### Converting to [ase.Atoms](https://wiki.fysik.dtu.dk/ase/ase/atoms.html) objects\n",
    "\n",
    "**Important! The `to_ase_atoms()` method described below will fail with an import error if [ase](https://wiki.fysik.dtu.dk/ase) is not installed.**\n",
    "\n",
    "Two classes have support for generating [ase.Atoms](https://wiki.fysik.dtu.dk/ase/ase/atoms.html) objects:\n",
    "* `ocpapi.Atoms.to_ase_atoms()`: Adds unit cell, atomic positions, and other structural information to the returned `ase.Atoms` object.\n",
    "* `ocpapi.AdsorbateSlabRelaxationResult.to_ase_atoms()`: Adds the same structure information to the `ase.Atoms` object. Also adds the predicted forces and energy of the relaxed structure, which can be accessed with the `ase.Atoms.get_potential_energy()` and `ase.Atoms.get_forces()` methods.\n",
    "\n",
    "For example, the following would generate an `ase.Atoms` object for the first relaxed adsorbate configuration on the first slab generated for *OH binding on Pt:"
   ]
  },
  {
   "cell_type": "code",
   "execution_count": null,
   "id": "9a1949b7",
   "metadata": {
    "tags": [
     "skip-execution"
    ]
   },
   "outputs": [],
   "source": [
    "from fairchem.demo.ocpapi import find_adsorbate_binding_sites\n",
    "\n",
    "results = await find_adsorbate_binding_sites(\n",
    "    adsorbate=\"*OH\",\n",
    "    bulk=\"mp-126\",\n",
    "    adslab_filter=keep_slabs_with_miller_indices([(1, 1, 1)]),\n",
    ")\n",
    "\n",
    "ase_atoms = results.slabs[0].configs[0].to_ase_atoms()\n",
    "print(ase_atoms)"
   ]
  },
  {
   "cell_type": "markdown",
   "id": "3384a371",
   "metadata": {},
   "source": [
    "### Converting to other structure formats\n",
    "\n",
    "From an `ase.Atoms` object (see previous section), is is possible to [write to other structure formats](https://wiki.fysik.dtu.dk/ase/ase/io/io.html#ase.io.write). Extending the example above, the `ase_atoms` object could be written to a [VASP POSCAR file](https://www.vasp.at/wiki/index.php/POSCAR) with:"
   ]
  },
  {
   "cell_type": "code",
   "execution_count": null,
   "id": "ecfc707f",
   "metadata": {
    "tags": [
     "skip-execution"
    ]
   },
   "outputs": [],
   "source": [
    "from ase.io import write\n",
    "\n",
    "write(\"POSCAR\", ase_atoms, \"vasp\")"
   ]
  },
  {
   "cell_type": "markdown",
   "id": "9660d7c7",
   "metadata": {},
   "source": [
    "## License\n",
    "\n",
    "`ocpapi` is released under the [MIT License](LICENSE).\n",
    "\n",
    "## Citing `ocpapi`\n",
    "\n",
    "If you use `ocpapi` in your research, please consider citing the [AdsorbML paper](https://www.nature.com/articles/s41524-023-01121-5) (in addition to the relevant datasets / models used):\n",
    "\n",
    "```bibtex\n",
    "@article{lan2023adsorbml,\n",
    "  title={{AdsorbML}: a leap in efficiency for adsorption energy calculations using generalizable machine learning potentials},\n",
    "  author={Lan*, Janice and Palizhati*, Aini and Shuaibi*, Muhammed and Wood*, Brandon M and Wander, Brook and Das, Abhishek and Uyttendaele, Matt and Zitnick, C Lawrence and Ulissi, Zachary W},\n",
    "  journal={npj Computational Materials},\n",
    "  year={2023},\n",
    "}\n",
    "```"
   ]
  }
 ],
 "metadata": {
  "jupytext": {
   "cell_metadata_filter": "-all",
   "main_language": "python"
  }
 },
 "nbformat": 4,
 "nbformat_minor": 5
}
