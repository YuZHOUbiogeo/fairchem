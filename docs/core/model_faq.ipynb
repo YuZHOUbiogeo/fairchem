{
 "cells": [
  {
   "cell_type": "markdown",
   "id": "a5bb4579",
   "metadata": {},
   "source": [
    "# Model FAQ\n",
    "\n",
    "If you don't find your question answered here, please feel free to [file a GitHub issue](https://github.com/FAIR-Chem/fairchem/issues) or [post on the discussion board](https://discuss.opencatalystproject.org/).\n",
    "\n",
    "## Models\n",
    "\n",
    "### Are predictions from FAIRChem models deterministic?\n",
    "\n",
    "By deterministic, we mean that multiple calls to the same function, given\n",
    "the same inputs (and seed), will produce the same results.\n",
    "\n",
    "On CPU, all operations should be deterministic. On GPU, `scatter` calls -- which\n",
    "are used in the node aggregation functions to get the final energy --\n",
    "are non-deterministic, since the order of parallel operations is not uniquely\n",
    "determined [[1](https://pytorch.org/docs/stable/generated/torch.Tensor.scatter_.html),\n",
    "[2](https://pytorch-scatter.readthedocs.io/en/latest/functions/scatter.html)].\n",
    "Moreover, results may be different between GPU and CPU\n",
    "executions [[3](https://pytorch.org/docs/stable/notes/randomness.html)].\n",
    "\n",
    "To get deterministic results on GPU, use [`torch.use_deterministic_algorithms`](https://pytorch.org/docs/stable/generated/torch.use_deterministic_algorithms.html#torch.use_deterministic_algorithms)\n",
    "where available (for example, see [`scatter_det`](https://github.com/FAIR-Chem/fairchem/blob/main/src/fairchem/core/common/utils.py#L1112)). Note that deterministic operations are often slower\n",
    "than non-deterministic operations, so while this may be worth using for testing\n",
    "and debugging, this is not recommended for large-scale training and inference.\n",
    "\n",
    "### How do I train a model on OC20 total energies?\n",
    "\n",
    "By default, the OC20 S2EF/IS2RE LMDBs have adsorption energies, i.e. the DFT\n",
    "total energies minus the clean surface and gas phase adsorbate energies.\n",
    "\n",
    "In order to train a model on DFT total energies, set the following flags in the\n",
    "YAML config:\n",
    "\n",
    "```yaml\n",
    "task:\n",
    "    ...\n",
    "    # To train on OC20 total energies, use the 'oc22_lmdb' dataset class.\n",
    "    dataset: oc22_lmdb\n",
    "    ...\n",
    "\n",
    "dataset:\n",
    "    train:\n",
    "        ...\n",
    "        # To train on OC20 total energies, a path to OC20 reference energies\n",
    "        # `oc20_ref` must be specified to unreference existing data.\n",
    "        train_on_oc20_total_energies: True\n",
    "        oc20_ref: path/to/oc20_ref.pkl\n",
    "        ...\n",
    "    val:\n",
    "        ...\n",
    "        train_on_oc20_total_energies: True\n",
    "        oc20_ref: path/to/oc20_ref.pkl\n",
    "        ...\n",
    "```\n",
    "\n",
    "The OC20 reference pickle file containing the energy necessary to convert\n",
    "adsorption energy values to total energy is [available for download\n",
    "here](https://fair-chem.github.io/core/datasets/oc20.html).\n",
    "\n",
    "To test if your setup is correct, try the following:"
   ]
  },
  {
   "cell_type": "code",
   "execution_count": null,
   "id": "8bdfcfa7",
   "metadata": {},
   "outputs": [],
   "source": [
    "%%python\n",
    "from fairchem.core.datasets import OC22LmdbDataset\n",
    "\n",
    "dset = OC22LmdbDataset({\n",
    "    \"src\": \"path/to/oc20/lmdb/folder/\",\n",
    "    \"train_on_oc20_total_energies\": True,\n",
    "    \"oc20_ref\": \"path/to/oc20_ref.pkl\",\n",
    "})\n",
    "\n",
    "print(dset[0])\n",
    "# Data(y=-181.54722937, ...) -- total DFT energies are usually quite high!"
   ]
  },
  {
   "cell_type": "markdown",
   "id": "462f28e3",
   "metadata": {},
   "source": [
    "Another option that might be useful for training on total energies is passing\n",
    "precomputed per-element average energies with [`lin_ref`](https://github.com/FAIR-Chem/fairchem/blob/faq/configs/s2ef/example.yml#L94-L97). If you use this option, make sure to recompute the\n",
    "[normalizer statistics (for energies)](https://github.com/FAIR-Chem/fairchem/blob/faq/configs/s2ef/example.yml#L82-L83)\n",
    "_after_ linear referencing.\n",
    "\n",
    "### I'm trying to run GemNet-OC / GemNet-dT, but it throws an error that scaling factors are not fitted. What should I do?\n",
    "\n",
    "GemNet-OC and GemNet-dT make use of empirical scaling factors that are fit on a\n",
    "few batches of data prior to training in order to stabilize the variance of\n",
    "activations. See [Sec. 6 in the GemNet paper](https://arxiv.org/abs/2106.08903)\n",
    "for more details on this.\n",
    "\n",
    "We provide some set of scaling factors as part of the `fairchem` codebase that you\n",
    "can reuse by passing the `scale_file` parameter in the YAML config. For example:\n",
    "* GemNet-dT [scaling factors](https://github.com/FAIR-Chem/fairchem/blob/main/src/fairchem/core/configs/s2ef/all/gemnet/scaling_factors/gemnet-dT.json) and [config](https://github.com/FAIR-Chem/fairchem/blob/main/src/fairchem/core/configs/s2ef/all/gemnet/gemnet-dT.yml#L32)\n",
    "* GemNet-OC [scaling factors](https://github.com/FAIR-Chem/fairchem/blob/main/src/fairchem/core/configs/s2ef/all/gemnet/scaling_factors/gemnet-oc.pt) and [config](https://github.com/FAIR-Chem/fairchem/blob/main/src/fairchem/core/configs/s2ef/all/gemnet/gemnet-oc.yml#L45)\n",
    "\n",
    "If you change any of the model architecture hyperparameters or the dataset, you\n",
    "should refit these scaling factors:"
   ]
  },
  {
   "cell_type": "code",
   "execution_count": null,
   "id": "08e3cf80",
   "metadata": {},
   "outputs": [],
   "source": [
    "python src/fairchem/core/modules/scaling/fit.py \\\n",
    "    --config-yml path/to/my/config.yml \\\n",
    "    --checkpoint path/to/save/checkpoint.pt \\\n",
    "    --mode train"
   ]
  },
  {
   "cell_type": "markdown",
   "id": "4f660946",
   "metadata": {},
   "source": [
    "This will recalculate the scaling factors and save them in a checkpoint file\n",
    "`path/to/save/checkpoint.pt`, that you can then load and launch training from:"
   ]
  },
  {
   "cell_type": "code",
   "execution_count": null,
   "id": "bb386dcb",
   "metadata": {},
   "outputs": [],
   "source": [
    "python main.py \\\n",
    "    --config-yml path/to/my/config.yml \\\n",
    "    --checkpoint path/to/save/checkpoint.pt \\\n",
    "    --mode train"
   ]
  },
  {
   "cell_type": "markdown",
   "id": "71e421c2",
   "metadata": {},
   "source": [
    "### I'm trying to run GemNet-OC on my data, but it errors out on `sph_basis = self.spherical_basis(cosφ_cab, θ_cabd)`.\n",
    "\n",
    "This is likely a tagging issue -- GemNet-OC computes quadruplet interactions\n",
    "for atoms tagged as 1 and 2\n",
    "([see code](https://github.com/FAIR-Chem/fairchem/blob/main/src/fairchem/core/models/gemnet_oc/gemnet_oc.py#L1020)).\n",
    "In OC20 parlance, `tag==1` refers to surface atoms and `tag==2` refers to\n",
    "adsorbate atoms. If all the atoms are tagged as 0 (check `atoms.get_tags()`),\n",
    "no quadruplets are computed, and part of the GemNet-OC forward pass fails.\n",
    "Having some atoms tagged as 1 or 2 in your structure should fix it."
   ]
  }
 ],
 "metadata": {
  "jupytext": {
   "cell_metadata_filter": "-all",
   "main_language": "bash",
   "notebook_metadata_filter": "-all"
  }
 },
 "nbformat": 4,
 "nbformat_minor": 5
}
