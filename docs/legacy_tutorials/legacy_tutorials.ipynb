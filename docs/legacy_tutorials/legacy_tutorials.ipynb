{
 "cells": [
  {
   "cell_type": "markdown",
   "id": "e7079020",
   "metadata": {},
   "source": [
    "### Legacy [deprecated] Tutorials\n",
    "\n",
    "As part of the [NeurIPS 2021 Climate Change AI Workshop](https://www.climatechange.ai/papers/neurips2021/79), a comprehensive, interactive Google-Colab tutorial notebook can be found [here](https://colab.research.google.com/github/Open-Catalyst-Project/ocp/blob/master/tutorials/OCP_Tutorial.ipynb). This notebook is designed for those new to OC20 and interested in how to get started. Topics include:\n",
    "  * Background\n",
    "  * Software Requirements\n",
    "  * Dataset overview & Visualization\n",
    "  * OCP Tasks - Train, Validate, Predict\n",
    "    * IS2RE\n",
    "    * S2EF\n",
    "    * IS2RS\n",
    "  * OCP Calculator\n",
    "  * Model Development\n",
    "  \n",
    "Additionally, we provide several Jupyter notebooks:\n",
    "  \n",
    " ```{tableofcontents}\n",
    "```"
   ]
  }
 ],
 "metadata": {
  "jupytext": {
   "cell_metadata_filter": "-all",
   "main_language": "python",
   "notebook_metadata_filter": "-all"
  }
 },
 "nbformat": 4,
 "nbformat_minor": 5
}
