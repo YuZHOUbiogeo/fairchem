{
 "cells": [
  {
   "cell_type": "markdown",
   "id": "343137ea",
   "metadata": {},
   "source": [
    "# Notebook execution times\n",
    "\n",
    "To help with debugging, we also provide the time to execute each of the notebooks in this repo on CPU. This should\n",
    "give you an idea how long each one will take to run start-to-finish!\n",
    "\n",
    "```{nb-exec-table}\n",
    "```"
   ]
  }
 ],
 "metadata": {
  "jupytext": {
   "cell_metadata_filter": "-all",
   "main_language": "python",
   "notebook_metadata_filter": "-all"
  }
 },
 "nbformat": 4,
 "nbformat_minor": 5
}
